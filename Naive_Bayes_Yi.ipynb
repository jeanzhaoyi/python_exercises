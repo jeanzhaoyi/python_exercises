{
 "cells": [
  {
   "cell_type": "markdown",
   "metadata": {},
   "source": [
    "# Basic Text Classification with Naive Bayes\n",
    "***\n",
    "In the mini-project, you'll learn the basics of text analysis using a subset of movie reviews from the rotten tomatoes database. You'll also use a fundamental technique in Bayesian inference, called Naive Bayes. This mini-project is based on [Lab 10 of Harvard's CS109](https://github.com/cs109/2015lab10) class.  Please free to go to the original lab for additional exercises and solutions."
   ]
  },
  {
   "cell_type": "code",
   "execution_count": 11,
   "metadata": {
    "collapsed": false
   },
   "outputs": [],
   "source": [
    "%matplotlib inline\n",
    "import numpy as np\n",
    "import scipy as sp\n",
    "import matplotlib as mpl\n",
    "import matplotlib.cm as cm\n",
    "import matplotlib.pyplot as plt\n",
    "import pandas as pd\n",
    "import seaborn as sns\n",
    "from six.moves import range\n",
    "\n",
    "# Setup Pandas\n",
    "pd.set_option('display.width', 500)\n",
    "pd.set_option('display.max_columns', 100)\n",
    "pd.set_option('display.notebook_repr_html', True)\n",
    "\n",
    "# Setup Seaborn\n",
    "sns.set_style(\"whitegrid\")\n",
    "sns.set_context(\"poster\")"
   ]
  },
  {
   "cell_type": "markdown",
   "metadata": {},
   "source": [
    "# Table of Contents\n",
    "\n",
    "* [Rotten Tomatoes Dataset](#Rotten-Tomatoes-Dataset)\n",
    "    * [Explore](#Explore)\n",
    "* [The Vector Space Model and a Search Engine](#The-Vector-Space-Model-and-a-Search-Engine)\n",
    "    * [In Code](#In-Code)\n",
    "* [Naive Bayes](#Naive-Bayes)\n",
    "    * [Multinomial Naive Bayes and Other Likelihood Functions](#Multinomial-Naive-Bayes-and-Other-Likelihood-Functions)\n",
    "    * [Picking Hyperparameters for Naive Bayes and Text Maintenance](#Picking-Hyperparameters-for-Naive-Bayes-and-Text-Maintenance)\n",
    "* [Interpretation](#Interpretation)\n"
   ]
  },
  {
   "cell_type": "markdown",
   "metadata": {},
   "source": [
    "## Rotten Tomatoes Dataset"
   ]
  },
  {
   "cell_type": "code",
   "execution_count": 12,
   "metadata": {
    "collapsed": false
   },
   "outputs": [
    {
     "name": "stdout",
     "output_type": "stream",
     "text": [
      "<class 'pandas.core.frame.DataFrame'>\n",
      "Int64Index: 15561 entries, 1 to 27616\n",
      "Data columns (total 8 columns):\n",
      "critic         14792 non-null object\n",
      "fresh          15561 non-null object\n",
      "imdb           15561 non-null int64\n",
      "publication    15561 non-null object\n",
      "quote          15561 non-null object\n",
      "review_date    15561 non-null object\n",
      "rtid           15561 non-null int64\n",
      "title          15561 non-null object\n",
      "dtypes: int64(2), object(6)\n",
      "memory usage: 1.1+ MB\n"
     ]
    }
   ],
   "source": [
    "critics = pd.read_csv('./critics.csv')\n",
    "#let's drop rows with missing quotes\n",
    "critics = critics[~critics.quote.isnull()]\n",
    "critics.info()"
   ]
  },
  {
   "cell_type": "code",
   "execution_count": 3,
   "metadata": {
    "collapsed": false
   },
   "outputs": [
    {
     "data": {
      "text/html": [
       "<div>\n",
       "<table border=\"1\" class=\"dataframe\">\n",
       "  <thead>\n",
       "    <tr style=\"text-align: right;\">\n",
       "      <th></th>\n",
       "      <th>fresh</th>\n",
       "      <th>quote</th>\n",
       "    </tr>\n",
       "  </thead>\n",
       "  <tbody>\n",
       "    <tr>\n",
       "      <th>1</th>\n",
       "      <td>fresh</td>\n",
       "      <td>So ingenious in concept, design and execution ...</td>\n",
       "    </tr>\n",
       "    <tr>\n",
       "      <th>2</th>\n",
       "      <td>fresh</td>\n",
       "      <td>The year's most inventive comedy.</td>\n",
       "    </tr>\n",
       "    <tr>\n",
       "      <th>3</th>\n",
       "      <td>fresh</td>\n",
       "      <td>A winning animated feature that has something ...</td>\n",
       "    </tr>\n",
       "    <tr>\n",
       "      <th>4</th>\n",
       "      <td>fresh</td>\n",
       "      <td>The film sports a provocative and appealing st...</td>\n",
       "    </tr>\n",
       "    <tr>\n",
       "      <th>5</th>\n",
       "      <td>fresh</td>\n",
       "      <td>An entertaining computer-generated, hyperreali...</td>\n",
       "    </tr>\n",
       "    <tr>\n",
       "      <th>6</th>\n",
       "      <td>fresh</td>\n",
       "      <td>As Lion King did before it, Toy Story revived ...</td>\n",
       "    </tr>\n",
       "    <tr>\n",
       "      <th>7</th>\n",
       "      <td>fresh</td>\n",
       "      <td>The film will probably be more fully appreciat...</td>\n",
       "    </tr>\n",
       "    <tr>\n",
       "      <th>8</th>\n",
       "      <td>fresh</td>\n",
       "      <td>Children will enjoy a new take on the irresist...</td>\n",
       "    </tr>\n",
       "    <tr>\n",
       "      <th>9</th>\n",
       "      <td>fresh</td>\n",
       "      <td>Although its computer-generated imagery is imp...</td>\n",
       "    </tr>\n",
       "    <tr>\n",
       "      <th>10</th>\n",
       "      <td>fresh</td>\n",
       "      <td>How perfect that two of the most popular funny...</td>\n",
       "    </tr>\n",
       "    <tr>\n",
       "      <th>11</th>\n",
       "      <td>fresh</td>\n",
       "      <td>The result is a visionary roller-coaster ride ...</td>\n",
       "    </tr>\n",
       "    <tr>\n",
       "      <th>12</th>\n",
       "      <td>fresh</td>\n",
       "      <td>Disney's witty, wondrously imaginative, all-co...</td>\n",
       "    </tr>\n",
       "    <tr>\n",
       "      <th>13</th>\n",
       "      <td>fresh</td>\n",
       "      <td>Disney's first computer-made animated feature ...</td>\n",
       "    </tr>\n",
       "    <tr>\n",
       "      <th>14</th>\n",
       "      <td>fresh</td>\n",
       "      <td>The script, by Lasseter, Pete Docter, Andrew S...</td>\n",
       "    </tr>\n",
       "    <tr>\n",
       "      <th>15</th>\n",
       "      <td>fresh</td>\n",
       "      <td>The one big negative about Toy Story involves ...</td>\n",
       "    </tr>\n",
       "    <tr>\n",
       "      <th>16</th>\n",
       "      <td>fresh</td>\n",
       "      <td>Technically, Toy Story is nearly flawless.</td>\n",
       "    </tr>\n",
       "    <tr>\n",
       "      <th>17</th>\n",
       "      <td>fresh</td>\n",
       "      <td>It's a nice change of pace to see the studio d...</td>\n",
       "    </tr>\n",
       "    <tr>\n",
       "      <th>18</th>\n",
       "      <td>fresh</td>\n",
       "      <td>I can hardly imagine having more fun at the mo...</td>\n",
       "    </tr>\n",
       "    <tr>\n",
       "      <th>19</th>\n",
       "      <td>fresh</td>\n",
       "      <td>The great voice acting, the visual puns, all a...</td>\n",
       "    </tr>\n",
       "    <tr>\n",
       "      <th>30</th>\n",
       "      <td>rotten</td>\n",
       "      <td>A gloomy special-effects extravaganza filled w...</td>\n",
       "    </tr>\n",
       "    <tr>\n",
       "      <th>32</th>\n",
       "      <td>fresh</td>\n",
       "      <td>A calculated but very entertaining special eff...</td>\n",
       "    </tr>\n",
       "    <tr>\n",
       "      <th>36</th>\n",
       "      <td>fresh</td>\n",
       "      <td>Walter Matthau and Jack Lemmon are awfully goo...</td>\n",
       "    </tr>\n",
       "    <tr>\n",
       "      <th>37</th>\n",
       "      <td>rotten</td>\n",
       "      <td>Mediocre, regrettably.</td>\n",
       "    </tr>\n",
       "    <tr>\n",
       "      <th>38</th>\n",
       "      <td>fresh</td>\n",
       "      <td>Just don't expect their bickering to be on the...</td>\n",
       "    </tr>\n",
       "    <tr>\n",
       "      <th>39</th>\n",
       "      <td>fresh</td>\n",
       "      <td>While it won't come close to my top 10 best li...</td>\n",
       "    </tr>\n",
       "    <tr>\n",
       "      <th>40</th>\n",
       "      <td>rotten</td>\n",
       "      <td>The movie is too pat and practiced to really b...</td>\n",
       "    </tr>\n",
       "    <tr>\n",
       "      <th>41</th>\n",
       "      <td>fresh</td>\n",
       "      <td>If you poke through Grumpy's cheap sentimental...</td>\n",
       "    </tr>\n",
       "    <tr>\n",
       "      <th>47</th>\n",
       "      <td>rotten</td>\n",
       "      <td>Never escapes the queasy aura of Melrose Place...</td>\n",
       "    </tr>\n",
       "    <tr>\n",
       "      <th>48</th>\n",
       "      <td>fresh</td>\n",
       "      <td>A pleasant if undemanding piece of work that i...</td>\n",
       "    </tr>\n",
       "    <tr>\n",
       "      <th>49</th>\n",
       "      <td>rotten</td>\n",
       "      <td>You want the movie to stomp and rejoice and cr...</td>\n",
       "    </tr>\n",
       "    <tr>\n",
       "      <th>...</th>\n",
       "      <td>...</td>\n",
       "      <td>...</td>\n",
       "    </tr>\n",
       "    <tr>\n",
       "      <th>27560</th>\n",
       "      <td>fresh</td>\n",
       "      <td>Although most of this is rather familiar stuff...</td>\n",
       "    </tr>\n",
       "    <tr>\n",
       "      <th>27561</th>\n",
       "      <td>fresh</td>\n",
       "      <td>This isn't an adolescent wish-fulfillment fant...</td>\n",
       "    </tr>\n",
       "    <tr>\n",
       "      <th>27563</th>\n",
       "      <td>rotten</td>\n",
       "      <td>A complicated film that never really successfu...</td>\n",
       "    </tr>\n",
       "    <tr>\n",
       "      <th>27566</th>\n",
       "      <td>rotten</td>\n",
       "      <td>Robert Aldrich's \"daring\" 1968 mating of lesbi...</td>\n",
       "    </tr>\n",
       "    <tr>\n",
       "      <th>27570</th>\n",
       "      <td>fresh</td>\n",
       "      <td>A little windy and rhetorical for my taste, bu...</td>\n",
       "    </tr>\n",
       "    <tr>\n",
       "      <th>27571</th>\n",
       "      <td>fresh</td>\n",
       "      <td>Emphasis is on tension in the telling, and eff...</td>\n",
       "    </tr>\n",
       "    <tr>\n",
       "      <th>27572</th>\n",
       "      <td>fresh</td>\n",
       "      <td>Although the characters are basically stereoty...</td>\n",
       "    </tr>\n",
       "    <tr>\n",
       "      <th>27573</th>\n",
       "      <td>rotten</td>\n",
       "      <td>The script prepared by Mr. Huston and Richard ...</td>\n",
       "    </tr>\n",
       "    <tr>\n",
       "      <th>27574</th>\n",
       "      <td>fresh</td>\n",
       "      <td>Disturbing and affecting.</td>\n",
       "    </tr>\n",
       "    <tr>\n",
       "      <th>27575</th>\n",
       "      <td>rotten</td>\n",
       "      <td>Claustrophobic and overwrought, Jailbait is an...</td>\n",
       "    </tr>\n",
       "    <tr>\n",
       "      <th>27576</th>\n",
       "      <td>rotten</td>\n",
       "      <td>While the stars deliver highly committed perfo...</td>\n",
       "    </tr>\n",
       "    <tr>\n",
       "      <th>27577</th>\n",
       "      <td>rotten</td>\n",
       "      <td>A stagy, only mildly compelling prison drama t...</td>\n",
       "    </tr>\n",
       "    <tr>\n",
       "      <th>27578</th>\n",
       "      <td>rotten</td>\n",
       "      <td>I wouldn't have thought it was possible to mak...</td>\n",
       "    </tr>\n",
       "    <tr>\n",
       "      <th>27579</th>\n",
       "      <td>rotten</td>\n",
       "      <td>The cruelty of the law has been better demonst...</td>\n",
       "    </tr>\n",
       "    <tr>\n",
       "      <th>27580</th>\n",
       "      <td>rotten</td>\n",
       "      <td>... the umpteenth prison drama to focus on the...</td>\n",
       "    </tr>\n",
       "    <tr>\n",
       "      <th>27593</th>\n",
       "      <td>rotten</td>\n",
       "      <td>Mr. Peckinpah's least interesting, least perso...</td>\n",
       "    </tr>\n",
       "    <tr>\n",
       "      <th>27595</th>\n",
       "      <td>rotten</td>\n",
       "      <td>George Cukor directed, a little impersonally f...</td>\n",
       "    </tr>\n",
       "    <tr>\n",
       "      <th>27596</th>\n",
       "      <td>fresh</td>\n",
       "      <td>Magic.</td>\n",
       "    </tr>\n",
       "    <tr>\n",
       "      <th>27597</th>\n",
       "      <td>fresh</td>\n",
       "      <td>More firm in its social implications than ever...</td>\n",
       "    </tr>\n",
       "    <tr>\n",
       "      <th>27598</th>\n",
       "      <td>rotten</td>\n",
       "      <td>Belying the lightheartedness of its title, Bir...</td>\n",
       "    </tr>\n",
       "    <tr>\n",
       "      <th>27599</th>\n",
       "      <td>fresh</td>\n",
       "      <td>A trifle self-indulgent -- well, it is directe...</td>\n",
       "    </tr>\n",
       "    <tr>\n",
       "      <th>27600</th>\n",
       "      <td>fresh</td>\n",
       "      <td>A very strange and beautiful movie.</td>\n",
       "    </tr>\n",
       "    <tr>\n",
       "      <th>27601</th>\n",
       "      <td>fresh</td>\n",
       "      <td>Most of Birdy is enchanting.</td>\n",
       "    </tr>\n",
       "    <tr>\n",
       "      <th>27603</th>\n",
       "      <td>rotten</td>\n",
       "      <td>We can't recommend this little item as a sampl...</td>\n",
       "    </tr>\n",
       "    <tr>\n",
       "      <th>27605</th>\n",
       "      <td>fresh</td>\n",
       "      <td>Ballard and his masterly crew of film makers h...</td>\n",
       "    </tr>\n",
       "    <tr>\n",
       "      <th>27606</th>\n",
       "      <td>fresh</td>\n",
       "      <td>Measures up to the promise Ballard amply provi...</td>\n",
       "    </tr>\n",
       "    <tr>\n",
       "      <th>27607</th>\n",
       "      <td>fresh</td>\n",
       "      <td>For the most part very absorbing, the film suf...</td>\n",
       "    </tr>\n",
       "    <tr>\n",
       "      <th>27608</th>\n",
       "      <td>fresh</td>\n",
       "      <td>Perhaps the best thing about the film is that ...</td>\n",
       "    </tr>\n",
       "    <tr>\n",
       "      <th>27609</th>\n",
       "      <td>fresh</td>\n",
       "      <td>The film is still memorable for its compassion...</td>\n",
       "    </tr>\n",
       "    <tr>\n",
       "      <th>27616</th>\n",
       "      <td>fresh</td>\n",
       "      <td>It does have enough gritty insights and (for t...</td>\n",
       "    </tr>\n",
       "  </tbody>\n",
       "</table>\n",
       "<p>15561 rows × 2 columns</p>\n",
       "</div>"
      ],
      "text/plain": [
       "        fresh                                              quote\n",
       "1       fresh  So ingenious in concept, design and execution ...\n",
       "2       fresh                  The year's most inventive comedy.\n",
       "3       fresh  A winning animated feature that has something ...\n",
       "4       fresh  The film sports a provocative and appealing st...\n",
       "5       fresh  An entertaining computer-generated, hyperreali...\n",
       "6       fresh  As Lion King did before it, Toy Story revived ...\n",
       "7       fresh  The film will probably be more fully appreciat...\n",
       "8       fresh  Children will enjoy a new take on the irresist...\n",
       "9       fresh  Although its computer-generated imagery is imp...\n",
       "10      fresh  How perfect that two of the most popular funny...\n",
       "11      fresh  The result is a visionary roller-coaster ride ...\n",
       "12      fresh  Disney's witty, wondrously imaginative, all-co...\n",
       "13      fresh  Disney's first computer-made animated feature ...\n",
       "14      fresh  The script, by Lasseter, Pete Docter, Andrew S...\n",
       "15      fresh  The one big negative about Toy Story involves ...\n",
       "16      fresh         Technically, Toy Story is nearly flawless.\n",
       "17      fresh  It's a nice change of pace to see the studio d...\n",
       "18      fresh  I can hardly imagine having more fun at the mo...\n",
       "19      fresh  The great voice acting, the visual puns, all a...\n",
       "30     rotten  A gloomy special-effects extravaganza filled w...\n",
       "32      fresh  A calculated but very entertaining special eff...\n",
       "36      fresh  Walter Matthau and Jack Lemmon are awfully goo...\n",
       "37     rotten                             Mediocre, regrettably.\n",
       "38      fresh  Just don't expect their bickering to be on the...\n",
       "39      fresh  While it won't come close to my top 10 best li...\n",
       "40     rotten  The movie is too pat and practiced to really b...\n",
       "41      fresh  If you poke through Grumpy's cheap sentimental...\n",
       "47     rotten  Never escapes the queasy aura of Melrose Place...\n",
       "48      fresh  A pleasant if undemanding piece of work that i...\n",
       "49     rotten  You want the movie to stomp and rejoice and cr...\n",
       "...       ...                                                ...\n",
       "27560   fresh  Although most of this is rather familiar stuff...\n",
       "27561   fresh  This isn't an adolescent wish-fulfillment fant...\n",
       "27563  rotten  A complicated film that never really successfu...\n",
       "27566  rotten  Robert Aldrich's \"daring\" 1968 mating of lesbi...\n",
       "27570   fresh  A little windy and rhetorical for my taste, bu...\n",
       "27571   fresh  Emphasis is on tension in the telling, and eff...\n",
       "27572   fresh  Although the characters are basically stereoty...\n",
       "27573  rotten  The script prepared by Mr. Huston and Richard ...\n",
       "27574   fresh                          Disturbing and affecting.\n",
       "27575  rotten  Claustrophobic and overwrought, Jailbait is an...\n",
       "27576  rotten  While the stars deliver highly committed perfo...\n",
       "27577  rotten  A stagy, only mildly compelling prison drama t...\n",
       "27578  rotten  I wouldn't have thought it was possible to mak...\n",
       "27579  rotten  The cruelty of the law has been better demonst...\n",
       "27580  rotten  ... the umpteenth prison drama to focus on the...\n",
       "27593  rotten  Mr. Peckinpah's least interesting, least perso...\n",
       "27595  rotten  George Cukor directed, a little impersonally f...\n",
       "27596   fresh                                             Magic.\n",
       "27597   fresh  More firm in its social implications than ever...\n",
       "27598  rotten  Belying the lightheartedness of its title, Bir...\n",
       "27599   fresh  A trifle self-indulgent -- well, it is directe...\n",
       "27600   fresh                A very strange and beautiful movie.\n",
       "27601   fresh                       Most of Birdy is enchanting.\n",
       "27603  rotten  We can't recommend this little item as a sampl...\n",
       "27605   fresh  Ballard and his masterly crew of film makers h...\n",
       "27606   fresh  Measures up to the promise Ballard amply provi...\n",
       "27607   fresh  For the most part very absorbing, the film suf...\n",
       "27608   fresh  Perhaps the best thing about the film is that ...\n",
       "27609   fresh  The film is still memorable for its compassion...\n",
       "27616   fresh  It does have enough gritty insights and (for t...\n",
       "\n",
       "[15561 rows x 2 columns]"
      ]
     },
     "execution_count": 3,
     "metadata": {},
     "output_type": "execute_result"
    }
   ],
   "source": [
    "critics[['fresh', 'quote']]"
   ]
  },
  {
   "cell_type": "markdown",
   "metadata": {},
   "source": [
    "### Explore"
   ]
  },
  {
   "cell_type": "code",
   "execution_count": 4,
   "metadata": {
    "collapsed": false
   },
   "outputs": [
    {
     "name": "stdout",
     "output_type": "stream",
     "text": [
      "Number of reviews: 15561\n",
      "Number of critics: 623\n",
      "Number of movies:  1921\n"
     ]
    }
   ],
   "source": [
    "n_reviews = len(critics)\n",
    "n_movies = critics.rtid.unique().size\n",
    "n_critics = critics.critic.unique().size\n",
    "\n",
    "\n",
    "print(\"Number of reviews: {:d}\".format(n_reviews))\n",
    "print(\"Number of critics: {:d}\".format(n_critics))\n",
    "print(\"Number of movies:  {:d}\".format(n_movies))"
   ]
  },
  {
   "cell_type": "code",
   "execution_count": 3,
   "metadata": {
    "collapsed": false
   },
   "outputs": [
    {
     "data": {
      "image/png": "[encoded data removed]",
      "text/plain": [
       "<matplotlib.figure.Figure at 0x117956e10>"
      ]
     },
     "metadata": {},
     "output_type": "display_data"
    }
   ],
   "source": [
    "df = critics.copy()\n",
    "df['fresh'] = df.fresh == 'fresh'\n",
    "grp = df.groupby('critic')\n",
    "counts = grp.critic.count()  # number of reviews by each critic\n",
    "means = grp.fresh.mean()     # average freshness for each critic\n",
    "\n",
    "means[counts > 100].hist(bins=10, edgecolor='w', lw=1)\n",
    "plt.xlabel(\"Average Rating per critic\")\n",
    "plt.ylabel(\"Number of Critics\")\n",
    "plt.yticks([0, 2, 4, 6, 8, 10]);"
   ]
  },
  {
   "cell_type": "code",
   "execution_count": 11,
   "metadata": {
    "collapsed": false
   },
   "outputs": [
    {
     "data": {
      "text/html": [
       "<div>\n",
       "<table border=\"1\" class=\"dataframe\">\n",
       "  <thead>\n",
       "    <tr style=\"text-align: right;\">\n",
       "      <th></th>\n",
       "      <th>critic</th>\n",
       "      <th>fresh</th>\n",
       "      <th>imdb</th>\n",
       "      <th>publication</th>\n",
       "      <th>quote</th>\n",
       "      <th>review_date</th>\n",
       "      <th>rtid</th>\n",
       "      <th>title</th>\n",
       "    </tr>\n",
       "  </thead>\n",
       "  <tbody>\n",
       "    <tr>\n",
       "      <th>1</th>\n",
       "      <td>Derek Adams</td>\n",
       "      <td>True</td>\n",
       "      <td>114709</td>\n",
       "      <td>Time Out</td>\n",
       "      <td>So ingenious in concept, design and execution ...</td>\n",
       "      <td>2009-10-04</td>\n",
       "      <td>9559</td>\n",
       "      <td>Toy story</td>\n",
       "    </tr>\n",
       "    <tr>\n",
       "      <th>2</th>\n",
       "      <td>Richard Corliss</td>\n",
       "      <td>True</td>\n",
       "      <td>114709</td>\n",
       "      <td>TIME Magazine</td>\n",
       "      <td>The year's most inventive comedy.</td>\n",
       "      <td>2008-08-31</td>\n",
       "      <td>9559</td>\n",
       "      <td>Toy story</td>\n",
       "    </tr>\n",
       "    <tr>\n",
       "      <th>3</th>\n",
       "      <td>David Ansen</td>\n",
       "      <td>True</td>\n",
       "      <td>114709</td>\n",
       "      <td>Newsweek</td>\n",
       "      <td>A winning animated feature that has something ...</td>\n",
       "      <td>2008-08-18</td>\n",
       "      <td>9559</td>\n",
       "      <td>Toy story</td>\n",
       "    </tr>\n",
       "    <tr>\n",
       "      <th>4</th>\n",
       "      <td>Leonard Klady</td>\n",
       "      <td>True</td>\n",
       "      <td>114709</td>\n",
       "      <td>Variety</td>\n",
       "      <td>The film sports a provocative and appealing st...</td>\n",
       "      <td>2008-06-09</td>\n",
       "      <td>9559</td>\n",
       "      <td>Toy story</td>\n",
       "    </tr>\n",
       "    <tr>\n",
       "      <th>5</th>\n",
       "      <td>Jonathan Rosenbaum</td>\n",
       "      <td>True</td>\n",
       "      <td>114709</td>\n",
       "      <td>Chicago Reader</td>\n",
       "      <td>An entertaining computer-generated, hyperreali...</td>\n",
       "      <td>2008-03-10</td>\n",
       "      <td>9559</td>\n",
       "      <td>Toy story</td>\n",
       "    </tr>\n",
       "    <tr>\n",
       "      <th>6</th>\n",
       "      <td>Michael Booth</td>\n",
       "      <td>True</td>\n",
       "      <td>114709</td>\n",
       "      <td>Denver Post</td>\n",
       "      <td>As Lion King did before it, Toy Story revived ...</td>\n",
       "      <td>2007-05-03</td>\n",
       "      <td>9559</td>\n",
       "      <td>Toy story</td>\n",
       "    </tr>\n",
       "    <tr>\n",
       "      <th>7</th>\n",
       "      <td>Geoff Andrew</td>\n",
       "      <td>True</td>\n",
       "      <td>114709</td>\n",
       "      <td>Time Out</td>\n",
       "      <td>The film will probably be more fully appreciat...</td>\n",
       "      <td>2006-06-24</td>\n",
       "      <td>9559</td>\n",
       "      <td>Toy story</td>\n",
       "    </tr>\n",
       "    <tr>\n",
       "      <th>8</th>\n",
       "      <td>Janet Maslin</td>\n",
       "      <td>True</td>\n",
       "      <td>114709</td>\n",
       "      <td>New York Times</td>\n",
       "      <td>Children will enjoy a new take on the irresist...</td>\n",
       "      <td>2003-05-20</td>\n",
       "      <td>9559</td>\n",
       "      <td>Toy story</td>\n",
       "    </tr>\n",
       "    <tr>\n",
       "      <th>9</th>\n",
       "      <td>Kenneth Turan</td>\n",
       "      <td>True</td>\n",
       "      <td>114709</td>\n",
       "      <td>Los Angeles Times</td>\n",
       "      <td>Although its computer-generated imagery is imp...</td>\n",
       "      <td>2001-02-13</td>\n",
       "      <td>9559</td>\n",
       "      <td>Toy story</td>\n",
       "    </tr>\n",
       "    <tr>\n",
       "      <th>10</th>\n",
       "      <td>Susan Wloszczyna</td>\n",
       "      <td>True</td>\n",
       "      <td>114709</td>\n",
       "      <td>USA Today</td>\n",
       "      <td>How perfect that two of the most popular funny...</td>\n",
       "      <td>2000-01-01</td>\n",
       "      <td>9559</td>\n",
       "      <td>Toy story</td>\n",
       "    </tr>\n",
       "    <tr>\n",
       "      <th>11</th>\n",
       "      <td>Roger Ebert</td>\n",
       "      <td>True</td>\n",
       "      <td>114709</td>\n",
       "      <td>Chicago Sun-Times</td>\n",
       "      <td>The result is a visionary roller-coaster ride ...</td>\n",
       "      <td>2000-01-01</td>\n",
       "      <td>9559</td>\n",
       "      <td>Toy story</td>\n",
       "    </tr>\n",
       "    <tr>\n",
       "      <th>12</th>\n",
       "      <td>John Hartl</td>\n",
       "      <td>True</td>\n",
       "      <td>114709</td>\n",
       "      <td>Film.com</td>\n",
       "      <td>Disney's witty, wondrously imaginative, all-co...</td>\n",
       "      <td>2000-01-01</td>\n",
       "      <td>9559</td>\n",
       "      <td>Toy story</td>\n",
       "    </tr>\n",
       "    <tr>\n",
       "      <th>13</th>\n",
       "      <td>Susan Stark</td>\n",
       "      <td>True</td>\n",
       "      <td>114709</td>\n",
       "      <td>Detroit News</td>\n",
       "      <td>Disney's first computer-made animated feature ...</td>\n",
       "      <td>2000-01-01</td>\n",
       "      <td>9559</td>\n",
       "      <td>Toy story</td>\n",
       "    </tr>\n",
       "    <tr>\n",
       "      <th>14</th>\n",
       "      <td>Peter Stack</td>\n",
       "      <td>True</td>\n",
       "      <td>114709</td>\n",
       "      <td>San Francisco Chronicle</td>\n",
       "      <td>The script, by Lasseter, Pete Docter, Andrew S...</td>\n",
       "      <td>2000-01-01</td>\n",
       "      <td>9559</td>\n",
       "      <td>Toy story</td>\n",
       "    </tr>\n",
       "    <tr>\n",
       "      <th>15</th>\n",
       "      <td>James Berardinelli</td>\n",
       "      <td>True</td>\n",
       "      <td>114709</td>\n",
       "      <td>ReelViews</td>\n",
       "      <td>The one big negative about Toy Story involves ...</td>\n",
       "      <td>2000-01-01</td>\n",
       "      <td>9559</td>\n",
       "      <td>Toy story</td>\n",
       "    </tr>\n",
       "    <tr>\n",
       "      <th>16</th>\n",
       "      <td>Sean Means</td>\n",
       "      <td>True</td>\n",
       "      <td>114709</td>\n",
       "      <td>Film.com</td>\n",
       "      <td>Technically, Toy Story is nearly flawless.</td>\n",
       "      <td>2000-01-01</td>\n",
       "      <td>9559</td>\n",
       "      <td>Toy story</td>\n",
       "    </tr>\n",
       "    <tr>\n",
       "      <th>17</th>\n",
       "      <td>Rita Kempley</td>\n",
       "      <td>True</td>\n",
       "      <td>114709</td>\n",
       "      <td>Washington Post</td>\n",
       "      <td>It's a nice change of pace to see the studio d...</td>\n",
       "      <td>2000-01-01</td>\n",
       "      <td>9559</td>\n",
       "      <td>Toy story</td>\n",
       "    </tr>\n",
       "    <tr>\n",
       "      <th>18</th>\n",
       "      <td>NaN</td>\n",
       "      <td>True</td>\n",
       "      <td>114709</td>\n",
       "      <td>Entertainment Weekly</td>\n",
       "      <td>I can hardly imagine having more fun at the mo...</td>\n",
       "      <td>1995-11-22</td>\n",
       "      <td>9559</td>\n",
       "      <td>Toy story</td>\n",
       "    </tr>\n",
       "    <tr>\n",
       "      <th>19</th>\n",
       "      <td>Roger Moore</td>\n",
       "      <td>True</td>\n",
       "      <td>114709</td>\n",
       "      <td>Orlando Sentinel</td>\n",
       "      <td>The great voice acting, the visual puns, all a...</td>\n",
       "      <td>1995-11-22</td>\n",
       "      <td>9559</td>\n",
       "      <td>Toy story</td>\n",
       "    </tr>\n",
       "    <tr>\n",
       "      <th>30</th>\n",
       "      <td>Roger Ebert</td>\n",
       "      <td>False</td>\n",
       "      <td>113497</td>\n",
       "      <td>Chicago Sun-Times</td>\n",
       "      <td>A gloomy special-effects extravaganza filled w...</td>\n",
       "      <td>2000-01-01</td>\n",
       "      <td>12436</td>\n",
       "      <td>Jumanji</td>\n",
       "    </tr>\n",
       "    <tr>\n",
       "      <th>32</th>\n",
       "      <td>NaN</td>\n",
       "      <td>True</td>\n",
       "      <td>113497</td>\n",
       "      <td>USA Today</td>\n",
       "      <td>A calculated but very entertaining special eff...</td>\n",
       "      <td>2000-01-01</td>\n",
       "      <td>12436</td>\n",
       "      <td>Jumanji</td>\n",
       "    </tr>\n",
       "    <tr>\n",
       "      <th>36</th>\n",
       "      <td>Richard Schickel</td>\n",
       "      <td>True</td>\n",
       "      <td>107050</td>\n",
       "      <td>TIME Magazine</td>\n",
       "      <td>Walter Matthau and Jack Lemmon are awfully goo...</td>\n",
       "      <td>2008-08-24</td>\n",
       "      <td>10498</td>\n",
       "      <td>Grumpy Old Men</td>\n",
       "    </tr>\n",
       "    <tr>\n",
       "      <th>37</th>\n",
       "      <td>Derek Adams</td>\n",
       "      <td>False</td>\n",
       "      <td>107050</td>\n",
       "      <td>Time Out</td>\n",
       "      <td>Mediocre, regrettably.</td>\n",
       "      <td>2006-06-24</td>\n",
       "      <td>10498</td>\n",
       "      <td>Grumpy Old Men</td>\n",
       "    </tr>\n",
       "    <tr>\n",
       "      <th>38</th>\n",
       "      <td>Caryn James</td>\n",
       "      <td>True</td>\n",
       "      <td>107050</td>\n",
       "      <td>New York Times</td>\n",
       "      <td>Just don't expect their bickering to be on the...</td>\n",
       "      <td>2003-05-20</td>\n",
       "      <td>10498</td>\n",
       "      <td>Grumpy Old Men</td>\n",
       "    </tr>\n",
       "    <tr>\n",
       "      <th>39</th>\n",
       "      <td>James Berardinelli</td>\n",
       "      <td>True</td>\n",
       "      <td>107050</td>\n",
       "      <td>ReelViews</td>\n",
       "      <td>While it won't come close to my top 10 best li...</td>\n",
       "      <td>2000-01-01</td>\n",
       "      <td>10498</td>\n",
       "      <td>Grumpy Old Men</td>\n",
       "    </tr>\n",
       "    <tr>\n",
       "      <th>40</th>\n",
       "      <td>Roger Ebert</td>\n",
       "      <td>False</td>\n",
       "      <td>107050</td>\n",
       "      <td>Chicago Sun-Times</td>\n",
       "      <td>The movie is too pat and practiced to really b...</td>\n",
       "      <td>2000-01-01</td>\n",
       "      <td>10498</td>\n",
       "      <td>Grumpy Old Men</td>\n",
       "    </tr>\n",
       "    <tr>\n",
       "      <th>41</th>\n",
       "      <td>Desson Thomson</td>\n",
       "      <td>True</td>\n",
       "      <td>107050</td>\n",
       "      <td>Washington Post</td>\n",
       "      <td>If you poke through Grumpy's cheap sentimental...</td>\n",
       "      <td>2000-01-01</td>\n",
       "      <td>10498</td>\n",
       "      <td>Grumpy Old Men</td>\n",
       "    </tr>\n",
       "    <tr>\n",
       "      <th>47</th>\n",
       "      <td>Liam Lacey</td>\n",
       "      <td>False</td>\n",
       "      <td>114885</td>\n",
       "      <td>Globe and Mail</td>\n",
       "      <td>Never escapes the queasy aura of Melrose Place...</td>\n",
       "      <td>2002-04-12</td>\n",
       "      <td>16697</td>\n",
       "      <td>Waiting to Exhale</td>\n",
       "    </tr>\n",
       "    <tr>\n",
       "      <th>48</th>\n",
       "      <td>Kenneth Turan</td>\n",
       "      <td>True</td>\n",
       "      <td>114885</td>\n",
       "      <td>Los Angeles Times</td>\n",
       "      <td>A pleasant if undemanding piece of work that i...</td>\n",
       "      <td>2001-02-13</td>\n",
       "      <td>16697</td>\n",
       "      <td>Waiting to Exhale</td>\n",
       "    </tr>\n",
       "    <tr>\n",
       "      <th>49</th>\n",
       "      <td>Edward Guthmann</td>\n",
       "      <td>False</td>\n",
       "      <td>114885</td>\n",
       "      <td>San Francisco Chronicle</td>\n",
       "      <td>You want the movie to stomp and rejoice and cr...</td>\n",
       "      <td>2000-01-01</td>\n",
       "      <td>16697</td>\n",
       "      <td>Waiting to Exhale</td>\n",
       "    </tr>\n",
       "    <tr>\n",
       "      <th>...</th>\n",
       "      <td>...</td>\n",
       "      <td>...</td>\n",
       "      <td>...</td>\n",
       "      <td>...</td>\n",
       "      <td>...</td>\n",
       "      <td>...</td>\n",
       "      <td>...</td>\n",
       "      <td>...</td>\n",
       "    </tr>\n",
       "    <tr>\n",
       "      <th>27560</th>\n",
       "      <td>Jonathan Rosenbaum</td>\n",
       "      <td>True</td>\n",
       "      <td>94347</td>\n",
       "      <td>Chicago Reader</td>\n",
       "      <td>Although most of this is rather familiar stuff...</td>\n",
       "      <td>2000-01-01</td>\n",
       "      <td>770674061</td>\n",
       "      <td>The Year My Voice Broke</td>\n",
       "    </tr>\n",
       "    <tr>\n",
       "      <th>27561</th>\n",
       "      <td>Hal Hinson</td>\n",
       "      <td>True</td>\n",
       "      <td>94347</td>\n",
       "      <td>Washington Post</td>\n",
       "      <td>This isn't an adolescent wish-fulfillment fant...</td>\n",
       "      <td>2000-01-01</td>\n",
       "      <td>770674061</td>\n",
       "      <td>The Year My Voice Broke</td>\n",
       "    </tr>\n",
       "    <tr>\n",
       "      <th>27563</th>\n",
       "      <td>NaN</td>\n",
       "      <td>False</td>\n",
       "      <td>55471</td>\n",
       "      <td>Time Out</td>\n",
       "      <td>A complicated film that never really successfu...</td>\n",
       "      <td>2006-02-09</td>\n",
       "      <td>18436</td>\n",
       "      <td>Splendor in the Grass</td>\n",
       "    </tr>\n",
       "    <tr>\n",
       "      <th>27566</th>\n",
       "      <td>Pat Graham</td>\n",
       "      <td>False</td>\n",
       "      <td>63185</td>\n",
       "      <td>Chicago Reader</td>\n",
       "      <td>Robert Aldrich's \"daring\" 1968 mating of lesbi...</td>\n",
       "      <td>2009-04-24</td>\n",
       "      <td>747403171</td>\n",
       "      <td>The Killing of Sister George</td>\n",
       "    </tr>\n",
       "    <tr>\n",
       "      <th>27570</th>\n",
       "      <td>Dave Kehr</td>\n",
       "      <td>True</td>\n",
       "      <td>40506</td>\n",
       "      <td>Chicago Reader</td>\n",
       "      <td>A little windy and rhetorical for my taste, bu...</td>\n",
       "      <td>2008-04-08</td>\n",
       "      <td>18375</td>\n",
       "      <td>Key Largo</td>\n",
       "    </tr>\n",
       "    <tr>\n",
       "      <th>27571</th>\n",
       "      <td>Variety Staff</td>\n",
       "      <td>True</td>\n",
       "      <td>40506</td>\n",
       "      <td>Variety</td>\n",
       "      <td>Emphasis is on tension in the telling, and eff...</td>\n",
       "      <td>2008-04-08</td>\n",
       "      <td>18375</td>\n",
       "      <td>Key Largo</td>\n",
       "    </tr>\n",
       "    <tr>\n",
       "      <th>27572</th>\n",
       "      <td>Tom Milne</td>\n",
       "      <td>True</td>\n",
       "      <td>40506</td>\n",
       "      <td>Time Out</td>\n",
       "      <td>Although the characters are basically stereoty...</td>\n",
       "      <td>2006-06-24</td>\n",
       "      <td>18375</td>\n",
       "      <td>Key Largo</td>\n",
       "    </tr>\n",
       "    <tr>\n",
       "      <th>27573</th>\n",
       "      <td>Bosley Crowther</td>\n",
       "      <td>False</td>\n",
       "      <td>40506</td>\n",
       "      <td>New York Times</td>\n",
       "      <td>The script prepared by Mr. Huston and Richard ...</td>\n",
       "      <td>2006-03-25</td>\n",
       "      <td>18375</td>\n",
       "      <td>Key Largo</td>\n",
       "    </tr>\n",
       "    <tr>\n",
       "      <th>27574</th>\n",
       "      <td>Bob Longino</td>\n",
       "      <td>True</td>\n",
       "      <td>364435</td>\n",
       "      <td>Atlanta Journal-Constitution</td>\n",
       "      <td>Disturbing and affecting.</td>\n",
       "      <td>2006-08-31</td>\n",
       "      <td>748169836</td>\n",
       "      <td>Jailbait</td>\n",
       "    </tr>\n",
       "    <tr>\n",
       "      <th>27575</th>\n",
       "      <td>Carrie Rickey</td>\n",
       "      <td>False</td>\n",
       "      <td>364435</td>\n",
       "      <td>Philadelphia Inquirer</td>\n",
       "      <td>Claustrophobic and overwrought, Jailbait is an...</td>\n",
       "      <td>2006-08-18</td>\n",
       "      <td>748169836</td>\n",
       "      <td>Jailbait</td>\n",
       "    </tr>\n",
       "    <tr>\n",
       "      <th>27576</th>\n",
       "      <td>Frank Scheck</td>\n",
       "      <td>False</td>\n",
       "      <td>364435</td>\n",
       "      <td>Hollywood Reporter</td>\n",
       "      <td>While the stars deliver highly committed perfo...</td>\n",
       "      <td>2006-08-17</td>\n",
       "      <td>748169836</td>\n",
       "      <td>Jailbait</td>\n",
       "    </tr>\n",
       "    <tr>\n",
       "      <th>27577</th>\n",
       "      <td>Laura Kern</td>\n",
       "      <td>False</td>\n",
       "      <td>364435</td>\n",
       "      <td>New York Times</td>\n",
       "      <td>A stagy, only mildly compelling prison drama t...</td>\n",
       "      <td>2006-08-04</td>\n",
       "      <td>748169836</td>\n",
       "      <td>Jailbait</td>\n",
       "    </tr>\n",
       "    <tr>\n",
       "      <th>27578</th>\n",
       "      <td>Lou Lumenick</td>\n",
       "      <td>False</td>\n",
       "      <td>364435</td>\n",
       "      <td>New York Post</td>\n",
       "      <td>I wouldn't have thought it was possible to mak...</td>\n",
       "      <td>2006-08-04</td>\n",
       "      <td>748169836</td>\n",
       "      <td>Jailbait</td>\n",
       "    </tr>\n",
       "    <tr>\n",
       "      <th>27579</th>\n",
       "      <td>Jack Mathews</td>\n",
       "      <td>False</td>\n",
       "      <td>364435</td>\n",
       "      <td>New York Daily News</td>\n",
       "      <td>The cruelty of the law has been better demonst...</td>\n",
       "      <td>2006-08-04</td>\n",
       "      <td>748169836</td>\n",
       "      <td>Jailbait</td>\n",
       "    </tr>\n",
       "    <tr>\n",
       "      <th>27580</th>\n",
       "      <td>Jim Ridley</td>\n",
       "      <td>False</td>\n",
       "      <td>364435</td>\n",
       "      <td>Village Voice</td>\n",
       "      <td>... the umpteenth prison drama to focus on the...</td>\n",
       "      <td>2006-08-02</td>\n",
       "      <td>748169836</td>\n",
       "      <td>Jailbait</td>\n",
       "    </tr>\n",
       "    <tr>\n",
       "      <th>27593</th>\n",
       "      <td>Vincent Canby</td>\n",
       "      <td>False</td>\n",
       "      <td>74695</td>\n",
       "      <td>New York Times</td>\n",
       "      <td>Mr. Peckinpah's least interesting, least perso...</td>\n",
       "      <td>2005-05-09</td>\n",
       "      <td>13694</td>\n",
       "      <td>Cross of Iron</td>\n",
       "    </tr>\n",
       "    <tr>\n",
       "      <th>27595</th>\n",
       "      <td>Dave Kehr</td>\n",
       "      <td>False</td>\n",
       "      <td>42276</td>\n",
       "      <td>Chicago Reader</td>\n",
       "      <td>George Cukor directed, a little impersonally f...</td>\n",
       "      <td>2008-01-11</td>\n",
       "      <td>18781</td>\n",
       "      <td>Born Yesterday</td>\n",
       "    </tr>\n",
       "    <tr>\n",
       "      <th>27596</th>\n",
       "      <td>NaN</td>\n",
       "      <td>True</td>\n",
       "      <td>42276</td>\n",
       "      <td>Time Out</td>\n",
       "      <td>Magic.</td>\n",
       "      <td>2006-06-24</td>\n",
       "      <td>18781</td>\n",
       "      <td>Born Yesterday</td>\n",
       "    </tr>\n",
       "    <tr>\n",
       "      <th>27597</th>\n",
       "      <td>Bosley Crowther</td>\n",
       "      <td>True</td>\n",
       "      <td>42276</td>\n",
       "      <td>New York Times</td>\n",
       "      <td>More firm in its social implications than ever...</td>\n",
       "      <td>2003-05-20</td>\n",
       "      <td>18781</td>\n",
       "      <td>Born Yesterday</td>\n",
       "    </tr>\n",
       "    <tr>\n",
       "      <th>27598</th>\n",
       "      <td>Variety Staff</td>\n",
       "      <td>False</td>\n",
       "      <td>86969</td>\n",
       "      <td>Variety</td>\n",
       "      <td>Belying the lightheartedness of its title, Bir...</td>\n",
       "      <td>2008-09-16</td>\n",
       "      <td>15889</td>\n",
       "      <td>Birdy</td>\n",
       "    </tr>\n",
       "    <tr>\n",
       "      <th>27599</th>\n",
       "      <td>NaN</td>\n",
       "      <td>True</td>\n",
       "      <td>86969</td>\n",
       "      <td>Time Out</td>\n",
       "      <td>A trifle self-indulgent -- well, it is directe...</td>\n",
       "      <td>2006-02-09</td>\n",
       "      <td>15889</td>\n",
       "      <td>Birdy</td>\n",
       "    </tr>\n",
       "    <tr>\n",
       "      <th>27600</th>\n",
       "      <td>Roger Ebert</td>\n",
       "      <td>True</td>\n",
       "      <td>86969</td>\n",
       "      <td>Chicago Sun-Times</td>\n",
       "      <td>A very strange and beautiful movie.</td>\n",
       "      <td>2004-10-23</td>\n",
       "      <td>15889</td>\n",
       "      <td>Birdy</td>\n",
       "    </tr>\n",
       "    <tr>\n",
       "      <th>27601</th>\n",
       "      <td>Janet Maslin</td>\n",
       "      <td>True</td>\n",
       "      <td>86969</td>\n",
       "      <td>New York Times</td>\n",
       "      <td>Most of Birdy is enchanting.</td>\n",
       "      <td>2003-05-20</td>\n",
       "      <td>15889</td>\n",
       "      <td>Birdy</td>\n",
       "    </tr>\n",
       "    <tr>\n",
       "      <th>27603</th>\n",
       "      <td>Bosley Crowther</td>\n",
       "      <td>False</td>\n",
       "      <td>49189</td>\n",
       "      <td>New York Times</td>\n",
       "      <td>We can't recommend this little item as a sampl...</td>\n",
       "      <td>2006-10-30</td>\n",
       "      <td>11854</td>\n",
       "      <td>Et Dieu... créa la femme</td>\n",
       "    </tr>\n",
       "    <tr>\n",
       "      <th>27605</th>\n",
       "      <td>Richard Schickel</td>\n",
       "      <td>True</td>\n",
       "      <td>86005</td>\n",
       "      <td>TIME Magazine</td>\n",
       "      <td>Ballard and his masterly crew of film makers h...</td>\n",
       "      <td>2009-03-09</td>\n",
       "      <td>12606</td>\n",
       "      <td>Never Cry Wolf</td>\n",
       "    </tr>\n",
       "    <tr>\n",
       "      <th>27606</th>\n",
       "      <td>Ronald Holloway</td>\n",
       "      <td>True</td>\n",
       "      <td>86005</td>\n",
       "      <td>Variety</td>\n",
       "      <td>Measures up to the promise Ballard amply provi...</td>\n",
       "      <td>2008-07-23</td>\n",
       "      <td>12606</td>\n",
       "      <td>Never Cry Wolf</td>\n",
       "    </tr>\n",
       "    <tr>\n",
       "      <th>27607</th>\n",
       "      <td>NaN</td>\n",
       "      <td>True</td>\n",
       "      <td>86005</td>\n",
       "      <td>Time Out</td>\n",
       "      <td>For the most part very absorbing, the film suf...</td>\n",
       "      <td>2006-01-26</td>\n",
       "      <td>12606</td>\n",
       "      <td>Never Cry Wolf</td>\n",
       "    </tr>\n",
       "    <tr>\n",
       "      <th>27608</th>\n",
       "      <td>Vincent Canby</td>\n",
       "      <td>True</td>\n",
       "      <td>86005</td>\n",
       "      <td>New York Times</td>\n",
       "      <td>Perhaps the best thing about the film is that ...</td>\n",
       "      <td>2004-08-30</td>\n",
       "      <td>12606</td>\n",
       "      <td>Never Cry Wolf</td>\n",
       "    </tr>\n",
       "    <tr>\n",
       "      <th>27609</th>\n",
       "      <td>Dave Kehr</td>\n",
       "      <td>True</td>\n",
       "      <td>86005</td>\n",
       "      <td>Chicago Reader</td>\n",
       "      <td>The film is still memorable for its compassion...</td>\n",
       "      <td>2000-01-01</td>\n",
       "      <td>12606</td>\n",
       "      <td>Never Cry Wolf</td>\n",
       "    </tr>\n",
       "    <tr>\n",
       "      <th>27616</th>\n",
       "      <td>Don Druker</td>\n",
       "      <td>True</td>\n",
       "      <td>55353</td>\n",
       "      <td>Chicago Reader</td>\n",
       "      <td>It does have enough gritty insights and (for t...</td>\n",
       "      <td>2007-11-13</td>\n",
       "      <td>18541</td>\n",
       "      <td>A Raisin in the Sun</td>\n",
       "    </tr>\n",
       "  </tbody>\n",
       "</table>\n",
       "<p>15561 rows × 8 columns</p>\n",
       "</div>"
      ],
      "text/plain": [
       "                   critic  fresh    imdb                   publication                                              quote review_date       rtid                         title\n",
       "1             Derek Adams   True  114709                      Time Out  So ingenious in concept, design and execution ...  2009-10-04       9559                     Toy story\n",
       "2         Richard Corliss   True  114709                 TIME Magazine                  The year's most inventive comedy.  2008-08-31       9559                     Toy story\n",
       "3             David Ansen   True  114709                      Newsweek  A winning animated feature that has something ...  2008-08-18       9559                     Toy story\n",
       "4           Leonard Klady   True  114709                       Variety  The film sports a provocative and appealing st...  2008-06-09       9559                     Toy story\n",
       "5      Jonathan Rosenbaum   True  114709                Chicago Reader  An entertaining computer-generated, hyperreali...  2008-03-10       9559                     Toy story\n",
       "6           Michael Booth   True  114709                   Denver Post  As Lion King did before it, Toy Story revived ...  2007-05-03       9559                     Toy story\n",
       "7            Geoff Andrew   True  114709                      Time Out  The film will probably be more fully appreciat...  2006-06-24       9559                     Toy story\n",
       "8            Janet Maslin   True  114709                New York Times  Children will enjoy a new take on the irresist...  2003-05-20       9559                     Toy story\n",
       "9           Kenneth Turan   True  114709             Los Angeles Times  Although its computer-generated imagery is imp...  2001-02-13       9559                     Toy story\n",
       "10       Susan Wloszczyna   True  114709                     USA Today  How perfect that two of the most popular funny...  2000-01-01       9559                     Toy story\n",
       "11            Roger Ebert   True  114709             Chicago Sun-Times  The result is a visionary roller-coaster ride ...  2000-01-01       9559                     Toy story\n",
       "12             John Hartl   True  114709                      Film.com  Disney's witty, wondrously imaginative, all-co...  2000-01-01       9559                     Toy story\n",
       "13            Susan Stark   True  114709                  Detroit News  Disney's first computer-made animated feature ...  2000-01-01       9559                     Toy story\n",
       "14            Peter Stack   True  114709       San Francisco Chronicle  The script, by Lasseter, Pete Docter, Andrew S...  2000-01-01       9559                     Toy story\n",
       "15     James Berardinelli   True  114709                     ReelViews  The one big negative about Toy Story involves ...  2000-01-01       9559                     Toy story\n",
       "16             Sean Means   True  114709                      Film.com         Technically, Toy Story is nearly flawless.  2000-01-01       9559                     Toy story\n",
       "17           Rita Kempley   True  114709               Washington Post  It's a nice change of pace to see the studio d...  2000-01-01       9559                     Toy story\n",
       "18                    NaN   True  114709          Entertainment Weekly  I can hardly imagine having more fun at the mo...  1995-11-22       9559                     Toy story\n",
       "19            Roger Moore   True  114709              Orlando Sentinel  The great voice acting, the visual puns, all a...  1995-11-22       9559                     Toy story\n",
       "30            Roger Ebert  False  113497             Chicago Sun-Times  A gloomy special-effects extravaganza filled w...  2000-01-01      12436                       Jumanji\n",
       "32                    NaN   True  113497                     USA Today  A calculated but very entertaining special eff...  2000-01-01      12436                       Jumanji\n",
       "36       Richard Schickel   True  107050                 TIME Magazine  Walter Matthau and Jack Lemmon are awfully goo...  2008-08-24      10498                Grumpy Old Men\n",
       "37            Derek Adams  False  107050                      Time Out                             Mediocre, regrettably.  2006-06-24      10498                Grumpy Old Men\n",
       "38            Caryn James   True  107050                New York Times  Just don't expect their bickering to be on the...  2003-05-20      10498                Grumpy Old Men\n",
       "39     James Berardinelli   True  107050                     ReelViews  While it won't come close to my top 10 best li...  2000-01-01      10498                Grumpy Old Men\n",
       "40            Roger Ebert  False  107050             Chicago Sun-Times  The movie is too pat and practiced to really b...  2000-01-01      10498                Grumpy Old Men\n",
       "41         Desson Thomson   True  107050               Washington Post  If you poke through Grumpy's cheap sentimental...  2000-01-01      10498                Grumpy Old Men\n",
       "47             Liam Lacey  False  114885                Globe and Mail  Never escapes the queasy aura of Melrose Place...  2002-04-12      16697             Waiting to Exhale\n",
       "48          Kenneth Turan   True  114885             Los Angeles Times  A pleasant if undemanding piece of work that i...  2001-02-13      16697             Waiting to Exhale\n",
       "49        Edward Guthmann  False  114885       San Francisco Chronicle  You want the movie to stomp and rejoice and cr...  2000-01-01      16697             Waiting to Exhale\n",
       "...                   ...    ...     ...                           ...                                                ...         ...        ...                           ...\n",
       "27560  Jonathan Rosenbaum   True   94347                Chicago Reader  Although most of this is rather familiar stuff...  2000-01-01  770674061       The Year My Voice Broke\n",
       "27561          Hal Hinson   True   94347               Washington Post  This isn't an adolescent wish-fulfillment fant...  2000-01-01  770674061       The Year My Voice Broke\n",
       "27563                 NaN  False   55471                      Time Out  A complicated film that never really successfu...  2006-02-09      18436         Splendor in the Grass\n",
       "27566          Pat Graham  False   63185                Chicago Reader  Robert Aldrich's \"daring\" 1968 mating of lesbi...  2009-04-24  747403171  The Killing of Sister George\n",
       "27570           Dave Kehr   True   40506                Chicago Reader  A little windy and rhetorical for my taste, bu...  2008-04-08      18375                     Key Largo\n",
       "27571       Variety Staff   True   40506                       Variety  Emphasis is on tension in the telling, and eff...  2008-04-08      18375                     Key Largo\n",
       "27572           Tom Milne   True   40506                      Time Out  Although the characters are basically stereoty...  2006-06-24      18375                     Key Largo\n",
       "27573     Bosley Crowther  False   40506                New York Times  The script prepared by Mr. Huston and Richard ...  2006-03-25      18375                     Key Largo\n",
       "27574         Bob Longino   True  364435  Atlanta Journal-Constitution                          Disturbing and affecting.  2006-08-31  748169836                      Jailbait\n",
       "27575       Carrie Rickey  False  364435         Philadelphia Inquirer  Claustrophobic and overwrought, Jailbait is an...  2006-08-18  748169836                      Jailbait\n",
       "27576        Frank Scheck  False  364435            Hollywood Reporter  While the stars deliver highly committed perfo...  2006-08-17  748169836                      Jailbait\n",
       "27577          Laura Kern  False  364435                New York Times  A stagy, only mildly compelling prison drama t...  2006-08-04  748169836                      Jailbait\n",
       "27578        Lou Lumenick  False  364435                 New York Post  I wouldn't have thought it was possible to mak...  2006-08-04  748169836                      Jailbait\n",
       "27579        Jack Mathews  False  364435           New York Daily News  The cruelty of the law has been better demonst...  2006-08-04  748169836                      Jailbait\n",
       "27580          Jim Ridley  False  364435                 Village Voice  ... the umpteenth prison drama to focus on the...  2006-08-02  748169836                      Jailbait\n",
       "27593       Vincent Canby  False   74695                New York Times  Mr. Peckinpah's least interesting, least perso...  2005-05-09      13694                 Cross of Iron\n",
       "27595           Dave Kehr  False   42276                Chicago Reader  George Cukor directed, a little impersonally f...  2008-01-11      18781                Born Yesterday\n",
       "27596                 NaN   True   42276                      Time Out                                             Magic.  2006-06-24      18781                Born Yesterday\n",
       "27597     Bosley Crowther   True   42276                New York Times  More firm in its social implications than ever...  2003-05-20      18781                Born Yesterday\n",
       "27598       Variety Staff  False   86969                       Variety  Belying the lightheartedness of its title, Bir...  2008-09-16      15889                         Birdy\n",
       "27599                 NaN   True   86969                      Time Out  A trifle self-indulgent -- well, it is directe...  2006-02-09      15889                         Birdy\n",
       "27600         Roger Ebert   True   86969             Chicago Sun-Times                A very strange and beautiful movie.  2004-10-23      15889                         Birdy\n",
       "27601        Janet Maslin   True   86969                New York Times                       Most of Birdy is enchanting.  2003-05-20      15889                         Birdy\n",
       "27603     Bosley Crowther  False   49189                New York Times  We can't recommend this little item as a sampl...  2006-10-30      11854      Et Dieu... créa la femme\n",
       "27605    Richard Schickel   True   86005                 TIME Magazine  Ballard and his masterly crew of film makers h...  2009-03-09      12606                Never Cry Wolf\n",
       "27606     Ronald Holloway   True   86005                       Variety  Measures up to the promise Ballard amply provi...  2008-07-23      12606                Never Cry Wolf\n",
       "27607                 NaN   True   86005                      Time Out  For the most part very absorbing, the film suf...  2006-01-26      12606                Never Cry Wolf\n",
       "27608       Vincent Canby   True   86005                New York Times  Perhaps the best thing about the film is that ...  2004-08-30      12606                Never Cry Wolf\n",
       "27609           Dave Kehr   True   86005                Chicago Reader  The film is still memorable for its compassion...  2000-01-01      12606                Never Cry Wolf\n",
       "27616          Don Druker   True   55353                Chicago Reader  It does have enough gritty insights and (for t...  2007-11-13      18541           A Raisin in the Sun\n",
       "\n",
       "[15561 rows x 8 columns]"
      ]
     },
     "execution_count": 11,
     "metadata": {},
     "output_type": "execute_result"
    }
   ],
   "source": [
    "df"
   ]
  },
  {
   "cell_type": "markdown",
   "metadata": {},
   "source": [
    "<div class=\"span5 alert alert-info\">\n",
    "<h3>Exercise Set I</h3>\n",
    "<br/>\n",
    "<b>Exercise:</b> Look at the histogram above. Tell a story about the average ratings per critic. What shape does the distribution look like? What is interesting about the distribution? What might explain these interesting things?\n",
    "</div>"
   ]
  },
  {
   "cell_type": "markdown",
   "metadata": {},
   "source": [
    "There is a bimodal distribution of the average ratings per critic. \n",
    "It seems that there is a small cluster of critics that are more critical and giving significantly below average reviews, while the majority of reviews center between 0.6 and 0.7 in rating."
   ]
  },
  {
   "cell_type": "markdown",
   "metadata": {},
   "source": [
    "## The Vector Space Model and a Search Engine"
   ]
  },
  {
   "cell_type": "markdown",
   "metadata": {},
   "source": [
    "All the diagrams here are snipped from [*Introduction to Information Retrieval* by Manning et. al.]( http://nlp.stanford.edu/IR-book/) which is a great resource on text processing. For additional information on text mining and natural language processing, see [*Foundations of Statistical Natural Language Processing* by Manning and Schutze](http://nlp.stanford.edu/fsnlp/).\n",
    "\n",
    "Also check out Python packages [`nltk`](http://www.nltk.org/), [`spaCy`](https://spacy.io/), [`pattern`](http://www.clips.ua.ac.be/pattern), and their associated resources. Also see [`word2vec`](https://en.wikipedia.org/wiki/Word2vec).\n",
    "\n",
    "Let us define the vector derived from document $d$ by $\\bar V(d)$. What does this mean? Each document is treated as a vector containing information about the words contained in it. Each vector has the same length and each entry \"slot\" in the vector contains some kind of data about the words that appear in the document such as presence/absence (1/0), count (an integer) or some other statistic. Each vector has the same length because each document shared the same vocabulary across the full collection of documents -- this collection is called a *corpus*.\n",
    "\n",
    "To define the vocabulary, we take a union of all words we have seen in all documents. We then just associate an array index with them. So \"hello\" may be at index 5 and \"world\" at index 99.\n",
    "\n",
    "Suppose we have the following corpus:\n",
    "\n",
    "`A Fox one day spied a beautiful bunch of ripe grapes hanging from a vine trained along the branches of a tree. The grapes seemed ready to burst with juice, and the Fox's mouth watered as he gazed longingly at them.`\n",
    "\n",
    "Suppose we treat each sentence as a document $d$. The vocabulary (often called the *lexicon*) is the following:\n",
    "\n",
    "$V = \\left\\{\\right.$ `a, along, and, as, at, beautiful, branches, bunch, burst, day, fox, fox's, from, gazed, grapes, hanging, he, juice, longingly, mouth, of, one, ready, ripe, seemed, spied, the, them, to, trained, tree, vine, watered, with`$\\left.\\right\\}$\n",
    "\n",
    "Then the document\n",
    "\n",
    "`A Fox one day spied a beautiful bunch of ripe grapes hanging from a vine trained along the branches of a tree`\n",
    "\n",
    "may be represented as the following sparse vector of word counts:\n",
    "\n",
    "$$\\bar V(d) = \\left( 4,1,0,0,0,1,1,1,0,1,1,0,1,0,1,1,0,0,0,0,2,1,0,1,0,0,1,0,0,0,1,1,0,0 \\right)$$\n",
    "\n",
    "or more succinctly as\n",
    "\n",
    "`[(0, 4), (1, 1), (5, 1), (6, 1), (7, 1), (9, 1), (10, 1), (12, 1), (14, 1), (15, 1), (20, 2), (21, 1), (23, 1),`\n",
    "`(26, 1), (30, 1), (31, 1)]`\n",
    "\n",
    "along with a dictionary\n",
    "\n",
    "``\n",
    "{\n",
    "    0: a, 1: along, 5: beautiful, 6: branches, 7: bunch, 9: day, 10: fox, 12: from, 14: grapes, \n",
    "    15: hanging, 19: mouth, 20: of, 21: one, 23: ripe, 24: seemed, 25: spied, 26: the, \n",
    "    30: tree, 31: vine, \n",
    "}\n",
    "``\n",
    "\n",
    "Then, a set of documents becomes, in the usual `sklearn` style, a sparse matrix with rows being sparse arrays representing documents and columns representing the features/words in the vocabulary.\n",
    "\n",
    "Notice that this representation loses the relative ordering of the terms in the document. That is \"cat ate rat\" and \"rat ate cat\" are the same. Thus, this representation is also known as the Bag-Of-Words representation.\n",
    "\n",
    "Here is another example, from the book quoted above, although the matrix is transposed here so that documents are columns:\n",
    "\n",
    "![novel terms](terms.png)\n",
    "\n",
    "Such a matrix is also catted a Term-Document Matrix. Here, the terms being indexed could be stemmed before indexing; for instance, `jealous` and `jealousy` after stemming are the same feature. One could also make use of other \"Natural Language Processing\" transformations in constructing the vocabulary. We could use Lemmatization, which reduces words to lemmas: work, working, worked would all reduce to work. We could remove \"stopwords\" from our vocabulary, such as common words like \"the\". We could look for particular parts of speech, such as adjectives. This is often done in Sentiment Analysis. And so on. It all depends on our application.\n",
    "\n",
    "From the book:\n",
    ">The standard way of quantifying the similarity between two documents $d_1$ and $d_2$  is to compute the cosine similarity of their vector representations $\\bar V(d_1)$ and $\\bar V(d_2)$:\n",
    "\n",
    "$$S_{12} = \\frac{\\bar V(d_1) \\cdot \\bar V(d_2)}{|\\bar V(d_1)| \\times |\\bar V(d_2)|}$$\n",
    "\n",
    "![Vector Space Model](vsm.png)\n",
    "\n",
    "\n",
    ">There is a far more compelling reason to represent documents as vectors: we can also view a query as a vector. Consider the query q = jealous gossip. This query turns into the unit vector $\\bar V(q)$ = (0, 0.707, 0.707) on the three coordinates below. \n",
    "\n",
    "![novel terms](terms2.png)\n",
    "\n",
    ">The key idea now: to assign to each document d a score equal to the dot product:\n",
    "\n",
    "$$\\bar V(q) \\cdot \\bar V(d)$$\n",
    "\n",
    "Then we can use this simple Vector Model as a Search engine."
   ]
  },
  {
   "cell_type": "markdown",
   "metadata": {},
   "source": [
    "### In Code"
   ]
  },
  {
   "cell_type": "code",
   "execution_count": 16,
   "metadata": {
    "collapsed": false
   },
   "outputs": [
    {
     "name": "stdout",
     "output_type": "stream",
     "text": [
      "Original text is\n",
      "Hop on pop\n",
      "Hop off pop\n",
      "Hop Hop hop\n",
      "\n",
      "Transformed text vector is \n",
      "[[1 0 1 1]\n",
      " [1 1 0 1]\n",
      " [3 0 0 0]]\n",
      "\n",
      "Words for each feature:\n",
      "['hop', 'off', 'on', 'pop']\n"
     ]
    }
   ],
   "source": [
    "from sklearn.feature_extraction.text import CountVectorizer\n",
    "\n",
    "text = ['Hop on pop', 'Hop off pop', 'Hop Hop hop']\n",
    "print(\"Original text is\\n{}\".format('\\n'.join(text)))\n",
    "\n",
    "vectorizer = CountVectorizer(min_df=0)\n",
    "\n",
    "# call `fit` to build the vocabulary\n",
    "vectorizer.fit(text)\n",
    "\n",
    "# call `transform` to convert text to a bag of words\n",
    "x = vectorizer.transform(text)\n",
    "\n",
    "# CountVectorizer uses a sparse array to save memory, but it's easier in this assignment to \n",
    "# convert back to a \"normal\" numpy array\n",
    "x = x.toarray()\n",
    "\n",
    "print(\"\")\n",
    "print(\"Transformed text vector is \\n{}\".format(x))\n",
    "\n",
    "# `get_feature_names` tracks which word is associated with each column of the transformed x\n",
    "print(\"\")\n",
    "print(\"Words for each feature:\")\n",
    "print(vectorizer.get_feature_names())\n",
    "\n",
    "# Notice that the bag of words treatment doesn't preserve information about the *order* of words, \n",
    "# just their frequency"
   ]
  },
  {
   "cell_type": "code",
   "execution_count": 17,
   "metadata": {
    "collapsed": false
   },
   "outputs": [],
   "source": [
    "def make_xy(critics, vectorizer=None):\n",
    "    #Your code here    \n",
    "    if vectorizer is None:\n",
    "        vectorizer = CountVectorizer()\n",
    "    X = vectorizer.fit_transform(critics.quote)\n",
    "    X = X.tocsc()  # some versions of sklearn return COO format\n",
    "    y = (critics.fresh == 'fresh').values.astype(np.int)\n",
    "    return X, y\n",
    "X, y = make_xy(critics)"
   ]
  },
  {
   "cell_type": "code",
   "execution_count": 18,
   "metadata": {
    "collapsed": false
   },
   "outputs": [
    {
     "data": {
      "text/plain": [
       "(15561, 22417)"
      ]
     },
     "execution_count": 18,
     "metadata": {},
     "output_type": "execute_result"
    }
   ],
   "source": [
    "X.shape # there are 15561 features, each with 22417 words"
   ]
  },
  {
   "cell_type": "markdown",
   "metadata": {},
   "source": [
    "## Naive Bayes"
   ]
  },
  {
   "cell_type": "markdown",
   "metadata": {},
   "source": [
    "From Bayes' Theorem, we have that\n",
    "\n",
    "$$P(c \\vert f) = \\frac{P(c \\cap f)}{P(f)}$$\n",
    "\n",
    "where $c$ represents a *class* or category, and $f$ represents a feature vector, such as $\\bar V(d)$ as above. **We are computing the probability that a document (or whatever we are classifying) belongs to category *c* given the features in the document.** $P(f)$ is really just a normalization constant, so the literature usually writes Bayes' Theorem in context of Naive Bayes as\n",
    "\n",
    "$$P(c \\vert f) \\propto P(f \\vert c) P(c) $$\n",
    "\n",
    "$P(c)$ is called the *prior* and is simply the probability of seeing class $c$. But what is $P(f \\vert c)$? This is the probability that we see feature set $f$ given that this document is actually in class $c$. This is called the *likelihood* and comes from the data. One of the major assumptions of the Naive Bayes model is that the features are *conditionally independent* given the class. While the presence of a particular discriminative word may uniquely identify the document as being part of class $c$ and thus violate general feature independence, conditional independence means that the presence of that term is independent of all the other words that appear *within that class*. This is a very important distinction. Recall that if two events are independent, then:\n",
    "\n",
    "$$P(A \\cap B) = P(A) \\cdot P(B)$$\n",
    "\n",
    "Thus, conditional independence implies\n",
    "\n",
    "$$P(f \\vert c)  = \\prod_i P(f_i | c) $$\n",
    "\n",
    "where $f_i$ is an individual feature (a word in this example).\n",
    "\n",
    "To make a classification, we then choose the class $c$ such that $P(c \\vert f)$ is maximal.\n",
    "\n",
    "There is a small caveat when computing these probabilities. For [floating point underflow](http://nlp.stanford.edu/IR-book/html/htmledition/naive-bayes-text-classification-1.html) we change the product into a sum by going into log space. This is called the LogSumExp trick. So:\n",
    "\n",
    "$$\\log P(f \\vert c)  = \\sum_i \\log P(f_i \\vert c) $$\n",
    "\n",
    "There is another caveat. What if we see a term that didn't exist in the training data? This means that $P(f_i \\vert c) = 0$ for that term, and thus $P(f \\vert c)  = \\prod_i P(f_i | c) = 0$, which doesn't help us at all. Instead of using zeros, we add a small negligible value called $\\alpha$ to each count. This is called Laplace Smoothing.\n",
    "\n",
    "$$P(f_i \\vert c) = \\frac{N_{ic}+\\alpha}{N_c + \\alpha N_i}$$\n",
    "\n",
    "where $N_{ic}$ is the number of times feature $i$ was seen in class $c$, $N_c$ is the number of times class $c$ was seen and $N_i$ is the number of times feature $i$ was seen globally. $\\alpha$ is sometimes called a regularization parameter."
   ]
  },
  {
   "cell_type": "markdown",
   "metadata": {},
   "source": [
    "### Multinomial Naive Bayes and Other Likelihood Functions\n",
    "\n",
    "Since we are modeling word counts, we are using variation of Naive Bayes called Multinomial Naive Bayes. This is because the likelihood function actually takes the form of the multinomial distribution.\n",
    "\n",
    "$$P(f \\vert c) = \\frac{\\left( \\sum_i f_i \\right)!}{\\prod_i f_i!} \\prod_{f_i} P(f_i \\vert c)^{f_i} \\propto \\prod_{i} P(f_i \\vert c)$$\n",
    "\n",
    "where the nasty term out front is absorbed as a normalization constant such that probabilities sum to 1.\n",
    "\n",
    "There are many other variations of Naive Bayes, all which depend on what type of value $f_i$ takes. If $f_i$ is continuous, we may be able to use *Gaussian Naive Bayes*. First compute the mean and variance for each class $c$. Then the likelihood, $P(f \\vert c)$ is given as follows\n",
    "\n",
    "$$P(f_i = v \\vert c) = \\frac{1}{\\sqrt{2\\pi \\sigma^2_c}} e^{- \\frac{\\left( v - \\mu_c \\right)^2}{2 \\sigma^2_c}}$$"
   ]
  },
  {
   "cell_type": "markdown",
   "metadata": {},
   "source": [
    "<div class=\"span5 alert alert-info\">\n",
    "<h3>Exercise Set II</h3>\n",
    "\n",
    "<p><b>Exercise:</b> Implement a simple Naive Bayes classifier:</p>\n",
    "\n",
    "<ol>\n",
    "<li> split the data set into a training and test set\n",
    "<li> Use `scikit-learn`'s `MultinomialNB()` classifier with default parameters.\n",
    "<li> train the classifier over the training set and test on the test set\n",
    "<li> print the accuracy scores for both the training and the test sets\n",
    "</ol>\n",
    "\n",
    "What do you notice? Is this a good classifier? If not, why not?\n",
    "</div>"
   ]
  },
  {
   "cell_type": "code",
   "execution_count": 6,
   "metadata": {
    "collapsed": false
   },
   "outputs": [
    {
     "name": "stderr",
     "output_type": "stream",
     "text": [
      "/Users/yizhao/anaconda3/lib/python3.5/site-packages/sklearn/cross_validation.py:44: DeprecationWarning: This module was deprecated in version 0.18 in favor of the model_selection module into which all the refactored classes and functions are moved. Also note that the interface of the new CV iterators are different from that of this module. This module will be removed in 0.20.\n",
      "  \"This module will be removed in 0.20.\", DeprecationWarning)\n"
     ]
    }
   ],
   "source": [
    "#split the data set into a training and test set\n",
    "from sklearn.cross_validation import train_test_split\n",
    "Xtrain, Xtest, ytrain, ytest = train_test_split(X, y)\n"
   ]
  },
  {
   "cell_type": "code",
   "execution_count": 7,
   "metadata": {
    "collapsed": false
   },
   "outputs": [
    {
     "name": "stdout",
     "output_type": "stream",
     "text": [
      "Train accuracy:  0.922107969152\n",
      "Test accuracy:  0.77589308661\n"
     ]
    }
   ],
   "source": [
    "#Use scikit-learn's MultinomialNB() classifier with default parameters\n",
    "from sklearn.naive_bayes import MultinomialNB\n",
    "\n",
    "#train the classifier over the training set and test on the test set\n",
    "NB = MultinomialNB()\n",
    "NB.fit(Xtrain, ytrain)\n",
    "y_pred = NB.predict(Xtest)\n",
    "\n",
    "# print the accuracy scores for both the training and the test sets\n",
    "from sklearn.metrics import accuracy_score\n",
    "print('Train accuracy: ',accuracy_score(NB.predict(Xtrain), ytrain))\n",
    "print('Test accuracy: ',accuracy_score(y_pred, ytest))"
   ]
  },
  {
   "cell_type": "markdown",
   "metadata": {},
   "source": [
    "#### The train accuracy is much higher than the test accuracy at 92.2% compared to the 77.6% in the testing set. This is expected, but there is still a lot of potential for improving the test accuracy and a big difference between the training and testing accuracy may indicate that we have overfitted the model. \n",
    "#### A high accuracy score may sound good at first, but it doesn't necessarily mean that we have a good classifier. This very much depends on the distribution of our actual labels. For instance, if 90% of the labels are 1 and 10% are labeled 0 in a binary variable, a 77% accuracy rate may be terrible at predicting the true 0 labels, which may be what is the most important to us. \n"
   ]
  },
  {
   "cell_type": "markdown",
   "metadata": {},
   "source": [
    "### Picking Hyperparameters for Naive Bayes and Text Maintenance"
   ]
  },
  {
   "cell_type": "markdown",
   "metadata": {},
   "source": [
    "We need to know what value to use for $\\alpha$, and we also need to know which words to include in the vocabulary. As mentioned earlier, some words are obvious stopwords. Other words appear so infrequently that they serve as noise, and other words in addition to stopwords appear so frequently that they may also serve as noise."
   ]
  },
  {
   "cell_type": "markdown",
   "metadata": {},
   "source": [
    "First, let's find an appropriate value for `min_df` for the `CountVectorizer`. `min_df` can be either an integer or a float/decimal. If it is an integer, `min_df` represents the minimum number of documents a word must appear in for it to be included in the vocabulary. If it is a float, it represents the minimum *percentage* of documents a word must appear in to be included in the vocabulary. From the documentation:"
   ]
  },
  {
   "cell_type": "markdown",
   "metadata": {},
   "source": [
    ">min_df: When building the vocabulary ignore terms that have a document frequency strictly lower than the given threshold. This value is also called cut-off in the literature. If float, the parameter represents a proportion of documents, integer absolute counts. This parameter is ignored if vocabulary is not None."
   ]
  },
  {
   "cell_type": "markdown",
   "metadata": {},
   "source": [
    "<div class=\"span5 alert alert-info\">\n",
    "<h3>Exercise Set III</h3>\n",
    "\n",
    "<p><b>Exercise:</b> Construct the cumulative distribution of document frequencies (df). The $x$-axis is a document count $x_i$ and the $y$-axis is the percentage of words that appear less than $x_i$ times. For example, at $x=5$, plot a point representing the percentage or number of words that appear in 5 or fewer documents.</p>\n",
    "\n",
    "<p><b>Exercise:</b> Look for the point at which the curve begins climbing steeply. This may be a good value for `min_df`. If we were interested in also picking `max_df`, we would likely pick the value where the curve starts to plateau. What value did you choose?</p>\n",
    "</div>"
   ]
  },
  {
   "cell_type": "code",
   "execution_count": 23,
   "metadata": {
    "collapsed": false
   },
   "outputs": [
    {
     "data": {
      "image/png": "[encoded data removed]",
      "text/plain": [
       "<matplotlib.figure.Figure at 0x1044ee3c8>"
      ]
     },
     "metadata": {},
     "output_type": "display_data"
    }
   ],
   "source": [
    "df = list(  sorted(  # sum the total number of occurences of each word (along axis 0) \n",
    "        #for those that are above 0 \n",
    "                    (X > 0).sum(axis=0).reshape( # convert into a one dimensional array\n",
    "                                                -1).tolist()[0]\n",
    "        # it is a list with only one element, so get just the first element\n",
    "                    ) # sort the counts\n",
    "         )\n",
    "plt.hist(df, bins= 1000)\n",
    "plt.show()"
   ]
  },
  {
   "cell_type": "code",
   "execution_count": 24,
   "metadata": {
    "collapsed": false
   },
   "outputs": [
    {
     "name": "stdout",
     "output_type": "stream",
     "text": [
      "[21347   537   179    96    44    36    27    24    23    12     8     7\n",
      "     6     7     4     4     2     3     1     4     1     5     3     0\n",
      "     1     2     0     2     0     0     0     3     1     2     2     1\n",
      "     0     0     1     0     2     1     0     2     0     0     0     0\n",
      "     0     0     0     0     0     0     1     0     0     1     0     0\n",
      "     0     0     0     0     1     1     0     0     0     0     1     0\n",
      "     1     0     1     0     0     2     0     0     0     0     0     0\n",
      "     0     0     0     0     0     0     0     0     0     0     0     0\n",
      "     0     0     0     0     0     0     0     0     0     0     0     0\n",
      "     1     0     0     0     0     0     0     0     0     0     0     0\n",
      "     0     1     0     0     0     0     0     0     0     0     0     0\n",
      "     0     0     0     0     0     0     0     0     0     0     1     0\n",
      "     0     0     0     0     0     0     0     0     0     0     0     0\n",
      "     0     0     0     0     0     0     0     1     0     0     0     0\n",
      "     0     1     0     0     0     0     0     0     0     0     0     0\n",
      "     0     0     0     0     0     0     0     0     0     0     0     0\n",
      "     0     0     0     0     0     0     0     0     0     0     0     0\n",
      "     0     0     0     0     0     0     0     0     0     0     0     0\n",
      "     0     0     0     0     0     0     0     0     0     0     0     0\n",
      "     0     0     0     0     0     0     0     1     0     0     0     0\n",
      "     0     0     0     0     0     0     0     0     0     1     0     0\n",
      "     0     0     0     0     0     0     0     0     0     0     0     0\n",
      "     0     0     0     0     0     0     0     0     0     0     0     0\n",
      "     0     0     0     0     0     0     0     0     0     0     0     0\n",
      "     0     0     0     0     0     0     0     0     0     0     0     0\n",
      "     0     0     0     0     0     0     0     0     0     0     0     0\n",
      "     0     1] \n",
      "\n",
      " [  1.00000000e+00   3.12579618e+01   6.15159236e+01   9.17738854e+01\n",
      "   1.22031847e+02   1.52289809e+02   1.82547771e+02   2.12805732e+02\n",
      "   2.43063694e+02   2.73321656e+02   3.03579618e+02   3.33837580e+02\n",
      "   3.64095541e+02   3.94353503e+02   4.24611465e+02   4.54869427e+02\n",
      "   4.85127389e+02   5.15385350e+02   5.45643312e+02   5.75901274e+02\n",
      "   6.06159236e+02   6.36417197e+02   6.66675159e+02   6.96933121e+02\n",
      "   7.27191083e+02   7.57449045e+02   7.87707006e+02   8.17964968e+02\n",
      "   8.48222930e+02   8.78480892e+02   9.08738854e+02   9.38996815e+02\n",
      "   9.69254777e+02   9.99512739e+02   1.02977070e+03   1.06002866e+03\n",
      "   1.09028662e+03   1.12054459e+03   1.15080255e+03   1.18106051e+03\n",
      "   1.21131847e+03   1.24157643e+03   1.27183439e+03   1.30209236e+03\n",
      "   1.33235032e+03   1.36260828e+03   1.39286624e+03   1.42312420e+03\n",
      "   1.45338217e+03   1.48364013e+03   1.51389809e+03   1.54415605e+03\n",
      "   1.57441401e+03   1.60467197e+03   1.63492994e+03   1.66518790e+03\n",
      "   1.69544586e+03   1.72570382e+03   1.75596178e+03   1.78621975e+03\n",
      "   1.81647771e+03   1.84673567e+03   1.87699363e+03   1.90725159e+03\n",
      "   1.93750955e+03   1.96776752e+03   1.99802548e+03   2.02828344e+03\n",
      "   2.05854140e+03   2.08879936e+03   2.11905732e+03   2.14931529e+03\n",
      "   2.17957325e+03   2.20983121e+03   2.24008917e+03   2.27034713e+03\n",
      "   2.30060510e+03   2.33086306e+03   2.36112102e+03   2.39137898e+03\n",
      "   2.42163694e+03   2.45189490e+03   2.48215287e+03   2.51241083e+03\n",
      "   2.54266879e+03   2.57292675e+03   2.60318471e+03   2.63344268e+03\n",
      "   2.66370064e+03   2.69395860e+03   2.72421656e+03   2.75447452e+03\n",
      "   2.78473248e+03   2.81499045e+03   2.84524841e+03   2.87550637e+03\n",
      "   2.90576433e+03   2.93602229e+03   2.96628025e+03   2.99653822e+03\n",
      "   3.02679618e+03   3.05705414e+03   3.08731210e+03   3.11757006e+03\n",
      "   3.14782803e+03   3.17808599e+03   3.20834395e+03   3.23860191e+03\n",
      "   3.26885987e+03   3.29911783e+03   3.32937580e+03   3.35963376e+03\n",
      "   3.38989172e+03   3.42014968e+03   3.45040764e+03   3.48066561e+03\n",
      "   3.51092357e+03   3.54118153e+03   3.57143949e+03   3.60169745e+03\n",
      "   3.63195541e+03   3.66221338e+03   3.69247134e+03   3.72272930e+03\n",
      "   3.75298726e+03   3.78324522e+03   3.81350318e+03   3.84376115e+03\n",
      "   3.87401911e+03   3.90427707e+03   3.93453503e+03   3.96479299e+03\n",
      "   3.99505096e+03   4.02530892e+03   4.05556688e+03   4.08582484e+03\n",
      "   4.11608280e+03   4.14634076e+03   4.17659873e+03   4.20685669e+03\n",
      "   4.23711465e+03   4.26737261e+03   4.29763057e+03   4.32788854e+03\n",
      "   4.35814650e+03   4.38840446e+03   4.41866242e+03   4.44892038e+03\n",
      "   4.47917834e+03   4.50943631e+03   4.53969427e+03   4.56995223e+03\n",
      "   4.60021019e+03   4.63046815e+03   4.66072611e+03   4.69098408e+03\n",
      "   4.72124204e+03   4.75150000e+03   4.78175796e+03   4.81201592e+03\n",
      "   4.84227389e+03   4.87253185e+03   4.90278981e+03   4.93304777e+03\n",
      "   4.96330573e+03   4.99356369e+03   5.02382166e+03   5.05407962e+03\n",
      "   5.08433758e+03   5.11459554e+03   5.14485350e+03   5.17511146e+03\n",
      "   5.20536943e+03   5.23562739e+03   5.26588535e+03   5.29614331e+03\n",
      "   5.32640127e+03   5.35665924e+03   5.38691720e+03   5.41717516e+03\n",
      "   5.44743312e+03   5.47769108e+03   5.50794904e+03   5.53820701e+03\n",
      "   5.56846497e+03   5.59872293e+03   5.62898089e+03   5.65923885e+03\n",
      "   5.68949682e+03   5.71975478e+03   5.75001274e+03   5.78027070e+03\n",
      "   5.81052866e+03   5.84078662e+03   5.87104459e+03   5.90130255e+03\n",
      "   5.93156051e+03   5.96181847e+03   5.99207643e+03   6.02233439e+03\n",
      "   6.05259236e+03   6.08285032e+03   6.11310828e+03   6.14336624e+03\n",
      "   6.17362420e+03   6.20388217e+03   6.23414013e+03   6.26439809e+03\n",
      "   6.29465605e+03   6.32491401e+03   6.35517197e+03   6.38542994e+03\n",
      "   6.41568790e+03   6.44594586e+03   6.47620382e+03   6.50646178e+03\n",
      "   6.53671975e+03   6.56697771e+03   6.59723567e+03   6.62749363e+03\n",
      "   6.65775159e+03   6.68800955e+03   6.71826752e+03   6.74852548e+03\n",
      "   6.77878344e+03   6.80904140e+03   6.83929936e+03   6.86955732e+03\n",
      "   6.89981529e+03   6.93007325e+03   6.96033121e+03   6.99058917e+03\n",
      "   7.02084713e+03   7.05110510e+03   7.08136306e+03   7.11162102e+03\n",
      "   7.14187898e+03   7.17213694e+03   7.20239490e+03   7.23265287e+03\n",
      "   7.26291083e+03   7.29316879e+03   7.32342675e+03   7.35368471e+03\n",
      "   7.38394268e+03   7.41420064e+03   7.44445860e+03   7.47471656e+03\n",
      "   7.50497452e+03   7.53523248e+03   7.56549045e+03   7.59574841e+03\n",
      "   7.62600637e+03   7.65626433e+03   7.68652229e+03   7.71678025e+03\n",
      "   7.74703822e+03   7.77729618e+03   7.80755414e+03   7.83781210e+03\n",
      "   7.86807006e+03   7.89832803e+03   7.92858599e+03   7.95884395e+03\n",
      "   7.98910191e+03   8.01935987e+03   8.04961783e+03   8.07987580e+03\n",
      "   8.11013376e+03   8.14039172e+03   8.17064968e+03   8.20090764e+03\n",
      "   8.23116561e+03   8.26142357e+03   8.29168153e+03   8.32193949e+03\n",
      "   8.35219745e+03   8.38245541e+03   8.41271338e+03   8.44297134e+03\n",
      "   8.47322930e+03   8.50348726e+03   8.53374522e+03   8.56400318e+03\n",
      "   8.59426115e+03   8.62451911e+03   8.65477707e+03   8.68503503e+03\n",
      "   8.71529299e+03   8.74555096e+03   8.77580892e+03   8.80606688e+03\n",
      "   8.83632484e+03   8.86658280e+03   8.89684076e+03   8.92709873e+03\n",
      "   8.95735669e+03   8.98761465e+03   9.01787261e+03   9.04813057e+03\n",
      "   9.07838854e+03   9.10864650e+03   9.13890446e+03   9.16916242e+03\n",
      "   9.19942038e+03   9.22967834e+03   9.25993631e+03   9.29019427e+03\n",
      "   9.32045223e+03   9.35071019e+03   9.38096815e+03   9.41122611e+03\n",
      "   9.44148408e+03   9.47174204e+03   9.50200000e+03]\n"
     ]
    }
   ],
   "source": [
    "# define the total number of observations and the number of unique words, or features\n",
    "rows, features = X.shape\n",
    "\n",
    "# compute the histogram of the dataset using the number of bins as exactly \n",
    "# the same number of unique occurences of words\n",
    "height, axis = np.histogram(df, bins=len(np.unique(df)))\n",
    "print(height, '\\n\\n', axis)\n",
    "# height is the total number of words(features) with a corresponding axis value of word counts\n",
    "# for instance, there are 21347 words that occured only once in all of the documents."
   ]
  },
  {
   "cell_type": "code",
   "execution_count": 25,
   "metadata": {
    "collapsed": false
   },
   "outputs": [
    {
     "data": {
      "text/plain": [
       "<matplotlib.text.Text at 0x11a615358>"
      ]
     },
     "execution_count": 25,
     "metadata": {},
     "output_type": "execute_result"
    },
    {
     "data": {
      "image/png": "[encoded data removed]",
      "text/plain": [
       "<matplotlib.figure.Figure at 0x119bcc128>"
      ]
     },
     "metadata": {},
     "output_type": "display_data"
    }
   ],
   "source": [
    "# create a cummulative sum of the word count and normalize by the total number of unique words\n",
    "cumhist = np.cumsum(height * 1, axis=0) / features\n",
    "\n",
    "# add a couple of zeros into the x and y axis of the cummulative distribution plot\n",
    "axis = np.insert(axis, 0, 0)\n",
    "cumhist = np.insert(cumhist, 0, 0)\n",
    "\n",
    "#\n",
    "plt.plot(axis[:-1], cumhist)\n",
    "plt.xlim(-.1, 100)\n",
    "plt.xlabel(\"DF (Document Counts)\")\n",
    "plt.ylabel(\"CDF\")\n",
    "plt.title(\"Cummulative distribution of percentage of words occurences\")"
   ]
  },
  {
   "cell_type": "markdown",
   "metadata": {},
   "source": [
    "#### The started to climb steeply at 5 total occurences in documents. So a good value for min_df would be 5. Also, the curve starts to plateau at 30, or as the elbow point in this curve. So I would choose 30 for max_df."
   ]
  },
  {
   "cell_type": "markdown",
   "metadata": {},
   "source": [
    "The parameter $\\alpha$ is chosen to be a small value that simply avoids having zeros in the probability computations. This value can sometimes be chosen arbitrarily with domain expertise, but we will use K-fold cross validation. In K-fold cross-validation, we divide the data into $K$ non-overlapping parts. We train on $K-1$ of the folds and test on the remaining fold. We then iterate, so that each fold serves as the test fold exactly once. The function `cv_score` performs the K-fold cross-validation algorithm for us, but we need to pass a function that measures the performance of the algorithm on each fold. "
   ]
  },
  {
   "cell_type": "code",
   "execution_count": 26,
   "metadata": {
    "collapsed": false
   },
   "outputs": [],
   "source": [
    "from sklearn.model_selection import KFold\n",
    "def cv_score(clf, X, y, scorefunc):\n",
    "    result = 0.\n",
    "    nfold = 5\n",
    "    for train, test in KFold(nfold).split(X): # split data into train/test groups, 5 times\n",
    "        clf.fit(X[train], y[train]) # fit the classifier, passed is as clf.\n",
    "        result += scorefunc(clf, X[test], y[test]) # evaluate score function on held-out data\n",
    "    return result / nfold # average"
   ]
  },
  {
   "cell_type": "markdown",
   "metadata": {},
   "source": [
    "We use the log-likelihood as the score here in `scorefunc`. The higher the log-likelihood, the better. Indeed, what we do in `cv_score` above is to implement the cross-validation part of `GridSearchCV`.\n",
    "\n",
    "The custom scoring function `scorefunc` allows us to use different metrics depending on the decision risk we care about (precision, accuracy, profit etc.) directly on the validation set. You will often find people using `roc_auc`, precision, recall, or `F1-score` as the scoring function."
   ]
  },
  {
   "cell_type": "code",
   "execution_count": 27,
   "metadata": {
    "collapsed": false
   },
   "outputs": [],
   "source": [
    "def log_likelihood(clf, x, y):\n",
    "    prob = clf.predict_log_proba(x)\n",
    "    rotten = y == 0\n",
    "    fresh = ~rotten\n",
    "    return prob[rotten, 0].sum() + prob[fresh, 1].sum()"
   ]
  },
  {
   "cell_type": "markdown",
   "metadata": {},
   "source": [
    "We'll cross-validate over the regularization parameter $\\alpha$."
   ]
  },
  {
   "cell_type": "markdown",
   "metadata": {},
   "source": [
    "Let's set up the train and test masks first, and then we can run the cross-validation procedure."
   ]
  },
  {
   "cell_type": "code",
   "execution_count": 28,
   "metadata": {
    "collapsed": false
   },
   "outputs": [],
   "source": [
    "from sklearn.model_selection import train_test_split\n",
    "_, itest = train_test_split(range(critics.shape[0]), train_size=0.7)\n",
    "mask = np.zeros(critics.shape[0], dtype=np.bool)\n",
    "mask[itest] = True"
   ]
  },
  {
   "cell_type": "markdown",
   "metadata": {},
   "source": [
    "<div class=\"span5 alert alert-info\">\n",
    "<h3>Exercise Set IV</h3>\n",
    "\n",
    "<p><b>Exercise:</b> What does using the function `log_likelihood` as the score mean? What are we trying to optimize for?</p>\n",
    "\n",
    "<p><b>Exercise:</b> Without writing any code, what do you think would happen if you choose a value of $\\alpha$ that is too high?</p>\n",
    "\n",
    "<p><b>Exercise:</b> Using the skeleton code below, find the best values of the parameter `alpha`, and use the value of `min_df` you chose in the previous exercise set. Use the `cv_score` function above with the `log_likelihood` function for scoring.</p>\n",
    "</div>"
   ]
  },
  {
   "cell_type": "markdown",
   "metadata": {},
   "source": [
    "Log_likelihood is a score indicative of the probability of a value being 1. We are optimizing for the most number of correct estimationg of test set y values.\n",
    "If alpha is too high, we would over penalize for the sparcity of the matrix and give too much weight to the otherwise 0 count words. In other words, zero counts may be falsly classified as real counts such that the performance of our model worsens."
   ]
  },
  {
   "cell_type": "code",
   "execution_count": 36,
   "metadata": {
    "collapsed": false
   },
   "outputs": [
    {
     "data": {
      "text/plain": [
       "[(0.05, -1042.4577386960693),\n",
       " (0.1, -903.2324051205469),\n",
       " (1, -593.95537943053455),\n",
       " (5, -718.77567973906866),\n",
       " (10, -946.67174632692843),\n",
       " (50, -1231.4458911593906)]"
      ]
     },
     "execution_count": 36,
     "metadata": {},
     "output_type": "execute_result"
    }
   ],
   "source": [
    "from sklearn.naive_bayes import MultinomialNB\n",
    "\n",
    "#the grid of parameters to search over\n",
    "alphas = [.05,.1,1, 5, 10, 50]\n",
    "best_min_df = 5\n",
    "\n",
    "#Find the best value for alpha and min_df, and the best classifier\n",
    "best_alpha = None\n",
    "maxscore=-np.inf\n",
    "scores = []\n",
    "\n",
    "for alpha in alphas:        \n",
    "    vectorizer = CountVectorizer(min_df=best_min_df)       \n",
    "    Xthis, ythis = make_xy(critics, vectorizer)\n",
    "    Xtrainthis = Xthis[mask]\n",
    "    ytrainthis = ythis[mask]\n",
    "    temp_score = cv_score(clf= MultinomialNB(alpha = alpha),\n",
    "                             scorefunc=log_likelihood,\n",
    "                             X = Xtrainthis,\n",
    "                             y = ytrainthis\n",
    "                            )\n",
    "    if temp_score > maxscore:\n",
    "        maxscore = temp_score\n",
    "        best_alpha = alpha\n",
    "    scores.append((alpha, temp_score))\n",
    "scores"
   ]
  },
  {
   "cell_type": "code",
   "execution_count": 37,
   "metadata": {
    "collapsed": false
   },
   "outputs": [
    {
     "name": "stdout",
     "output_type": "stream",
     "text": [
      "alpha: 1\n"
     ]
    }
   ],
   "source": [
    "print(\"alpha: {}\".format(best_alpha))"
   ]
  },
  {
   "cell_type": "markdown",
   "metadata": {},
   "source": [
    "<div class=\"span5 alert alert-info\">\n",
    "<h3>Exercise Set V: Working with the Best Parameters</h3>\n",
    "\n",
    "<p><b>Exercise:</b> Using the best value of  `alpha` you just found, calculate the accuracy on the training and test sets. Is this classifier better? Why (not)?</p>\n",
    "\n",
    "</div>"
   ]
  },
  {
   "cell_type": "code",
   "execution_count": 38,
   "metadata": {
    "collapsed": false
   },
   "outputs": [
    {
     "name": "stdout",
     "output_type": "stream",
     "text": [
      "Accuracy on training data: 0.906832\n",
      "Accuracy on test data:     0.742380\n"
     ]
    }
   ],
   "source": [
    "vectorizer = CountVectorizer(min_df= best_min_df)\n",
    "X, y = make_xy(critics, vectorizer)\n",
    "xtrain=X[mask]\n",
    "ytrain=y[mask]\n",
    "xtest=X[~mask]\n",
    "ytest=y[~mask]\n",
    "\n",
    "clf = MultinomialNB(alpha=best_alpha).fit(xtrain, ytrain)\n",
    "\n",
    "#your turn. Print the accuracy on the test and training dataset\n",
    "training_accuracy = clf.score(xtrain, ytrain)\n",
    "test_accuracy = clf.score(xtest, ytest)\n",
    "\n",
    "print(\"Accuracy on training data: {:2f}\".format(training_accuracy))\n",
    "print(\"Accuracy on test data:     {:2f}\".format(test_accuracy))"
   ]
  },
  {
   "cell_type": "code",
   "execution_count": 39,
   "metadata": {
    "collapsed": false
   },
   "outputs": [
    {
     "name": "stdout",
     "output_type": "stream",
     "text": [
      "[[2622 1647]\n",
      " [1159 5464]]\n"
     ]
    }
   ],
   "source": [
    "from sklearn.metrics import confusion_matrix\n",
    "print(confusion_matrix(ytest, clf.predict(xtest)))"
   ]
  },
  {
   "cell_type": "markdown",
   "metadata": {},
   "source": [
    "## Interpretation"
   ]
  },
  {
   "cell_type": "markdown",
   "metadata": {},
   "source": [
    "### What are the strongly predictive features?\n",
    "\n",
    "We use a neat trick to identify strongly predictive features (i.e. words). \n",
    "\n",
    "* first, create a data set such that each row has exactly one feature. This is represented by the identity matrix.\n",
    "* use the trained classifier to make predictions on this matrix\n",
    "* sort the rows by predicted probabilities, and pick the top and bottom $K$ rows"
   ]
  },
  {
   "cell_type": "code",
   "execution_count": 133,
   "metadata": {
    "collapsed": false
   },
   "outputs": [
    {
     "name": "stdout",
     "output_type": "stream",
     "text": [
      "Good words\t     P(fresh | word)\n",
      "                most 0.77\n",
      "                 one 0.70\n",
      "                 his 0.69\n",
      "                film 0.68\n",
      "                with 0.67\n",
      "                 has 0.66\n",
      "                  an 0.65\n",
      "                 and 0.65\n",
      "                  of 0.64\n",
      "                  in 0.63\n",
      "Bad words\t     P(fresh | word)\n",
      "                 all 0.57\n",
      "                than 0.57\n",
      "                 but 0.56\n",
      "                  to 0.55\n",
      "                this 0.55\n",
      "                 are 0.55\n",
      "                more 0.53\n",
      "                have 0.51\n",
      "                  be 0.50\n",
      "                like 0.48\n"
     ]
    }
   ],
   "source": [
    "words = np.array(vectorizer.get_feature_names())\n",
    "\n",
    "x = np.eye(xtest.shape[1])\n",
    "probs = clf.predict_log_proba(x)[:, 0]\n",
    "ind = np.argsort(probs)\n",
    "\n",
    "good_words = words[ind[:10]]\n",
    "bad_words = words[ind[-10:]]\n",
    "\n",
    "good_prob = probs[ind[:10]]\n",
    "bad_prob = probs[ind[-10:]]\n",
    "\n",
    "print(\"Good words\\t     P(fresh | word)\")\n",
    "for w, p in zip(good_words, good_prob):\n",
    "    print(\"{:>20}\".format(w), \"{:.2f}\".format(1 - np.exp(p)))\n",
    "    \n",
    "print(\"Bad words\\t     P(fresh | word)\")\n",
    "for w, p in zip(bad_words, bad_prob):\n",
    "    print(\"{:>20}\".format(w), \"{:.2f}\".format(1 - np.exp(p)))"
   ]
  },
  {
   "cell_type": "markdown",
   "metadata": {},
   "source": [
    "<div class=\"span5 alert alert-info\">\n",
    "<h3>Exercise Set VI</h3>\n",
    "\n",
    "<p><b>Exercise:</b> Why does this method work? What does the probability for each row in the identity matrix represent</p>\n",
    "\n",
    "</div>"
   ]
  },
  {
   "cell_type": "markdown",
   "metadata": {},
   "source": [
    "#### The identity matrix means using only one word per observation to predict a log likelihood probability of the previously trained multinobial niave bayes model. The probability shows how likely a word is to make a particular review fresh or rotten. The higher the probability, the more likely that the predicted value was to be categorizes as 1. "
   ]
  },
  {
   "cell_type": "markdown",
   "metadata": {},
   "source": [
    "The above exercise is an example of *feature selection*. There are many other feature selection methods. A list of feature selection methods available in `sklearn` is [here](http://scikit-learn.org/stable/modules/classes.html#module-sklearn.feature_selection). The most common feature selection technique for text mining is the chi-squared $\\left( \\chi^2 \\right)$ [method](http://nlp.stanford.edu/IR-book/html/htmledition/feature-selectionchi2-feature-selection-1.html)."
   ]
  },
  {
   "cell_type": "markdown",
   "metadata": {},
   "source": [
    "### Prediction Errors\n",
    "\n",
    "We can see mis-predictions as well."
   ]
  },
  {
   "cell_type": "code",
   "execution_count": 134,
   "metadata": {
    "collapsed": false
   },
   "outputs": [
    {
     "name": "stdout",
     "output_type": "stream",
     "text": [
      "Mis-predicted Rotten quotes\n",
      "---------------------------\n",
      "Take away a couple of neatly staged action sequences and you're left with a callously measured slab of US jingoism that deals with the most horrific human tragedies in the most lunk-headed and insulting way possible.\n",
      "\n",
      "Nava, who started his feature-film career with El Norte, is a good director who invariably finds a strong rapport with his actors. He's not much of a writer, though, and he should think twice about creating dialogue for his future projects.\n",
      "\n",
      "One seemingly terminal problem with the casting of Ms. Aniston and Mr. Vaughn is that neither of their careers has featured characters who excelled at one-to-one relationships with the opposite sex.\n",
      "\n",
      "It survives today only as an unusually pure example of a typical 50s art-film strategy: the attempt to make the most modern and most popular of art forms acceptable to the intelligentsia by forcing it into an arcane, antique mold.\n",
      "\n",
      "This is both the movie in which [Russell] is most faithful to the ideas and tone of his material, and one of his very worst films.\n",
      "\n",
      "Mis-predicted Fresh quotes\n",
      "--------------------------\n",
      "The movie may not be perfect, but it beautifully distills White's simple message. We are all born to die. But we are also born to befriend.\n",
      "\n",
      "The more things change, the more we have to laugh if we are to have a prayer of remaining sane, and the Pythons are the best possible step in that direction.\n",
      "\n",
      "What the visual immediacy of Schindler's List does is to prod each of us to fill in the gaps of emotion for ourselves. To put this another way, the more you are able to invest in this superb, demanding film, the more you are likely to get back.\n",
      "\n",
      "[Stone] seems to be trying to enter a more passionate movie, where a neurotic gold digger could at least have a good time. By the end of Casino, for all its craftsmanly bravura, you may want to join her.\n",
      "\n",
      "Here is a sports movie in the tradition of the best sportswriting, where athletes are portrayed warts and all. You do not have to be nice to win races, but you have to be good.\n",
      "\n"
     ]
    }
   ],
   "source": [
    "x, y = make_xy(critics, vectorizer)\n",
    "\n",
    "prob = clf.predict_proba(x)[:, 0]\n",
    "predict = clf.predict(x)\n",
    "\n",
    "bad_rotten = np.argsort(prob[y == 0])[:5]\n",
    "bad_fresh = np.argsort(prob[y == 1])[-5:]\n",
    "\n",
    "print(\"Mis-predicted Rotten quotes\")\n",
    "print('---------------------------')\n",
    "for row in bad_rotten:\n",
    "    print(critics[y == 0].quote.iloc[row])\n",
    "    print(\"\")\n",
    "\n",
    "print(\"Mis-predicted Fresh quotes\")\n",
    "print('--------------------------')\n",
    "for row in bad_fresh:\n",
    "    print(critics[y == 1].quote.iloc[row])\n",
    "    print(\"\")"
   ]
  },
  {
   "cell_type": "markdown",
   "metadata": {},
   "source": [
    "<div class=\"span5 alert alert-info\">\n",
    "<h3>Exercise Set VII: Predicting the Freshness for a New Review</h3>\n",
    "<br/>\n",
    "<div>\n",
    "<b>Exercise:</b>\n",
    "<ul>\n",
    "<li> Using your best trained classifier, predict the freshness of the following sentence: *'This movie is not remarkable, touching, or superb in any way'*\n",
    "<li> Is the result what you'd expect? Why (not)?\n",
    "</ul>\n",
    "</div>\n",
    "</div>"
   ]
  },
  {
   "cell_type": "code",
   "execution_count": 40,
   "metadata": {
    "collapsed": false
   },
   "outputs": [
    {
     "name": "stdout",
     "output_type": "stream",
     "text": [
      "[[ 0.00437824  0.99562176]]\n"
     ]
    }
   ],
   "source": [
    "# test with the new quote\n",
    "new_review = 'This movie is not remarkable, touching, or superb in any way'\n",
    "\n",
    "Xquery = vectorizer.transform([new_review])\n",
    "print(clf.predict_proba(Xquery))"
   ]
  },
  {
   "cell_type": "markdown",
   "metadata": {},
   "source": [
    "#### The prediction says that there is a 99.6% probability for this quote to be fresh. However, this prediction is wrong. \n",
    "#### This is because we didn't take into account negation or the combination of words in the predictions. Since the majority of words in this quote are positive, we received a 'fresh' prediction, despite of its 'not' made it a 'rotten' one."
   ]
  },
  {
   "cell_type": "markdown",
   "metadata": {},
   "source": [
    "### Aside: TF-IDF Weighting for Term Importance\n",
    "\n",
    "TF-IDF stands for \n",
    "\n",
    "`Term-Frequency X Inverse Document Frequency`.\n",
    "\n",
    "In the standard `CountVectorizer` model above, we used just the term frequency in a document of words in our vocabulary. In TF-IDF, we weight this term frequency by the inverse of its popularity in all documents. For example, if the word \"movie\" showed up in all the documents, it would not have much predictive value. It could actually be considered a stopword. By weighing its counts by 1 divided by its overall frequency, we downweight it. We can then use this TF-IDF weighted features as inputs to any classifier. **TF-IDF is essentially a measure of term importance, and of how discriminative a word is in a corpus.** There are a variety of nuances involved in computing TF-IDF, mainly involving where to add the smoothing term to avoid division by 0, or log of 0 errors. The formula for TF-IDF in `scikit-learn` differs from that of most textbooks: \n",
    "\n",
    "$$\\mbox{TF-IDF}(t, d) = \\mbox{TF}(t, d)\\times \\mbox{IDF}(t) = n_{td} \\log{\\left( \\frac{\\vert D \\vert}{\\vert d : t \\in d \\vert} + 1 \\right)}$$\n",
    "\n",
    "where $n_{td}$ is the number of times term $t$ occurs in document $d$, $\\vert D \\vert$ is the number of documents, and $\\vert d : t \\in d \\vert$ is the number of documents that contain $t$"
   ]
  },
  {
   "cell_type": "code",
   "execution_count": 152,
   "metadata": {
    "collapsed": true
   },
   "outputs": [],
   "source": [
    "# http://scikit-learn.org/dev/modules/feature_extraction.html#text-feature-extraction\n",
    "# http://scikit-learn.org/dev/modules/classes.html#text-feature-extraction-ref\n",
    "from sklearn.feature_extraction.text import TfidfVectorizer\n",
    "tfidfvectorizer = TfidfVectorizer(min_df=1, stop_words='english')\n",
    "Xtfidf=tfidfvectorizer.fit_transform(critics.quote)\n",
    "\n"
   ]
  },
  {
   "cell_type": "markdown",
   "metadata": {},
   "source": [
    "<div class=\"span5 alert alert-info\">\n",
    "<h3>Exercise Set VIII: Enrichment</h3>\n",
    "\n",
    "<p>\n",
    "There are several additional things we could try. Try some of these as exercises:\n",
    "<ol>\n",
    "<li> Build a Naive Bayes model where the features are n-grams instead of words. N-grams are phrases containing n words next to each other: a bigram contains 2 words, a trigram contains 3 words, and 6-gram contains 6 words. This is useful because \"not good\" and \"so good\" mean very different things. On the other hand, as n increases, the model does not scale well since the feature set becomes more sparse.\n",
    "<li> Try a model besides Naive Bayes, one that would allow for interactions between words -- for example, a Random Forest classifier.\n",
    "<li> Try adding supplemental features -- information about genre, director, cast, etc.\n",
    "<li> Use word2vec or [Latent Dirichlet Allocation](https://en.wikipedia.org/wiki/Latent_Dirichlet_allocation) to group words into topics and use those topics for prediction.\n",
    "<li> Use TF-IDF weighting instead of word counts.\n",
    "</ol>\n",
    "</p>\n",
    "\n",
    "<b>Exercise:</b> Try a few of these ideas to improve the model (or any other ideas of your own). Implement here and report on the result.\n",
    "</div>"
   ]
  },
  {
   "cell_type": "markdown",
   "metadata": {
    "collapsed": true
   },
   "source": [
    "### 1. Try n-gram"
   ]
  },
  {
   "cell_type": "code",
   "execution_count": 151,
   "metadata": {
    "collapsed": false
   },
   "outputs": [
    {
     "name": "stdout",
     "output_type": "stream",
     "text": [
      "Train accuracy:  0.991688089117\n",
      "Test accuracy:  0.770496016448\n"
     ]
    }
   ],
   "source": [
    "# create a countvectorizer object with ngram\n",
    "ngram = CountVectorizer(ngram_range=(1,2)) # up to two words\n",
    "\n",
    "# reorganize the orignial data into array form\n",
    "X = ngram.fit_transform(critics.quote)\n",
    "X = X.tocsc()  # some versions of sklearn return COO format\n",
    "y = (critics.fresh == 'fresh').values.astype(np.int)\n",
    "\n",
    "# split the data\n",
    "Xtrain, Xtest, ytrain, ytest = train_test_split(X, y)\n",
    "\n",
    "# build a Naive Bayes model\n",
    "NB = MultinomialNB()\n",
    "NB.fit(Xtrain, ytrain)\n",
    "y_pred = NB.predict(Xtest)\n",
    "\n",
    "# print the accuracy scores for both the training and the test sets\n",
    "print('Train accuracy: ',accuracy_score(NB.predict(Xtrain), ytrain))\n",
    "print('Test accuracy: ',accuracy_score(y_pred, ytest))"
   ]
  },
  {
   "cell_type": "markdown",
   "metadata": {},
   "source": [
    "### 2. Random forest model"
   ]
  },
  {
   "cell_type": "code",
   "execution_count": 14,
   "metadata": {
    "collapsed": true
   },
   "outputs": [],
   "source": [
    "from sklearn.ensemble import RandomForestClassifier"
   ]
  },
  {
   "cell_type": "code",
   "execution_count": 179,
   "metadata": {
    "collapsed": false
   },
   "outputs": [],
   "source": [
    "# build a Random Forest model\n",
    "RF = RandomForestClassifier(n_estimators= 20, min_impurity_split=1e-02)\n",
    "RF.fit(Xtrain, ytrain)\n",
    "y_pred = RF.predict(Xtest)"
   ]
  },
  {
   "cell_type": "code",
   "execution_count": 180,
   "metadata": {
    "collapsed": false
   },
   "outputs": [
    {
     "name": "stdout",
     "output_type": "stream",
     "text": [
      "Train accuracy:  0.998971722365\n",
      "Test accuracy:  0.690824980725\n"
     ]
    }
   ],
   "source": [
    "# print the accuracy scores for both the training and the test sets\n",
    "print('Train accuracy: ',accuracy_score(RF.predict(Xtrain), ytrain))\n",
    "print('Test accuracy: ',accuracy_score(y_pred, ytest))"
   ]
  },
  {
   "cell_type": "markdown",
   "metadata": {},
   "source": [
    "### 4 & 5. LDA for topic extraction and Tfid"
   ]
  },
  {
   "cell_type": "code",
   "execution_count": 10,
   "metadata": {
    "collapsed": false
   },
   "outputs": [
    {
     "name": "stdout",
     "output_type": "stream",
     "text": [
      "Extracting tf-idf features for NMF...\n",
      "done in 0.612s.\n",
      "Extracting tf features for LDA...\n",
      "done in 0.354s.\n",
      "Fitting the NMF model with tf-idf features, n_samples=2000 and n_features=1000...\n",
      "done in 0.456s.\n",
      "\n",
      "Topics in NMF model:\n",
      "Topic #0:\n",
      "movie kind isn action way little make big just great does doesn time horror makes moments sense tv lot know\n",
      "Topic #1:\n",
      "film great director american new make doesn way characters sense work does humor end action long performance makes style little\n",
      "Topic #2:\n",
      "like just movies feels looks makes make watching characters feel don look life doesn man little ve director plays new\n",
      "Topic #3:\n",
      "funny smart scary fast touching satire don just moving clever pretty frequently jokes isn dark warm laughs consistently aren humor\n",
      "Topic #4:\n",
      "good time bad isn feel acting pretty performances just great makes better way make entertainment job looks long humor things\n",
      "Topic #5:\n",
      "comedy romantic romance black american spirited high laughs drama little attempt love teen melodrama action adventure light new satire kind\n",
      "Topic #6:\n",
      "best movies films picture year work hollywood thing years works performance director far motion worst probably disney ve seen certainly\n",
      "Topic #7:\n",
      "story love director characters isn character told performances actors real tell telling touching heart really cast doesn power line war\n",
      "Topic #8:\n",
      "entertaining thriller surprisingly witty way mildly time intelligent movies picture man life look looking screen year thoroughly quite opera hitchcock\n",
      "Topic #9:\n",
      "fun great lot just watch star scary sense really movies picture make doesn run house watching action people night having\n",
      "\n",
      "Fitting LDA models with tf features, n_samples=2000 and n_features=1000...\n",
      "done in 9.011s.\n",
      "\n",
      "Topics in LDA model:\n",
      "Topic #0:\n",
      "film sense drama romantic humor comedy life years makes human worth emotional hitchcock wit watch scene age violence fantasy exciting\n",
      "Topic #1:\n",
      "entertaining character performances ve movie right star seen especially motion picture energy children performance beautiful remains powerful delivers sweet animation\n",
      "Topic #2:\n",
      "movie story like does old man mr just material isn life love audience know watching comic time horror day place\n",
      "Topic #3:\n",
      "funny real script moments new effects john disney like special enjoyable looks version screenplay visual clever moving times satire got\n",
      "Topic #4:\n",
      "movies work movie bad doesn world don screen american good hollywood minutes making bit interesting come narrative makes musical jokes\n",
      "Topic #5:\n",
      "movie time film characters little make fun people plot great really lot way hard like quite directed play fine half\n",
      "Topic #6:\n",
      "best comedy action movie kind long original thing set heart tale films film year true director romance sort adventure laughs\n",
      "Topic #7:\n",
      "director thriller better just movie picture big self works best entertainment pretty style think experience writer simply good feature cinematic\n",
      "Topic #8:\n",
      "film good cast acting classic comes family gets art despite turns goes actor role screen easy line usual silly melodrama\n",
      "Topic #9:\n",
      "high look scenes feel away actors point suspense satisfying music effective days low black mind compelling animated run dialogue perfect\n",
      "\n"
     ]
    }
   ],
   "source": [
    "from __future__ import print_function\n",
    "from time import time\n",
    "\n",
    "from sklearn.feature_extraction.text import TfidfVectorizer, CountVectorizer\n",
    "from sklearn.decomposition import NMF, LatentDirichletAllocation\n",
    "from sklearn.datasets import fetch_20newsgroups\n",
    " \n",
    "n_features = 1000 # input in to the tfidf function\n",
    "n_topics = 10 # input into the LDA function\n",
    "n_top_words = 20 # number of top words to print in a topic\n",
    "\n",
    "\n",
    "def print_top_words(model, feature_names, n_top_words):\n",
    "    for topic_idx, topic in enumerate(model.components_):\n",
    "        print(\"Topic #%d:\" % topic_idx)\n",
    "        print(\" \".join([feature_names[i]\n",
    "                        for i in topic.argsort()[:-n_top_words - 1:-1]]))\n",
    "    print()\n",
    "\n",
    "# split the data\n",
    "y = (critics.fresh == 'fresh').values.astype(np.int)\n",
    "Xtrain, Xtest, ytrain, ytest = train_test_split(critics.quote, y)\n",
    "\n",
    "\n",
    "# Use tf-idf features for NMF.\n",
    "print(\"Extracting tf-idf features for NMF...\")\n",
    "tfidf_vectorizer = TfidfVectorizer(max_df=0.95, min_df=2,\n",
    "                                   max_features=n_features,\n",
    "                                   stop_words='english')\n",
    "t0 = time()\n",
    "tfidf = tfidf_vectorizer.fit_transform(Xtrain)\n",
    "print(\"done in %0.3fs.\" % (time() - t0))\n",
    "\n",
    "# Use tf (raw term count) features for LDA.\n",
    "print(\"Extracting tf features for LDA...\")\n",
    "tf_vectorizer = CountVectorizer(max_df=0.95, min_df=2,\n",
    "                                max_features=n_features,\n",
    "                                stop_words='english')\n",
    "t0 = time()\n",
    "tf = tf_vectorizer.fit_transform(Xtrain)\n",
    "print(\"done in %0.3fs.\" % (time() - t0))\n",
    "\n",
    "# Fit the NMF model\n",
    "print(\"Fitting the NMF model with tf-idf features, \"\n",
    "      \" n_features=%d...\"\n",
    "      % ( n_features))\n",
    "t0 = time()\n",
    "nmf = NMF(n_components=n_topics, random_state=1,\n",
    "          alpha=.1, l1_ratio=.5).fit(tfidf)\n",
    "print(\"done in %0.3fs.\" % (time() - t0))\n",
    "\n",
    "print(\"\\nTopics in NMF model:\")\n",
    "tfidf_feature_names = tfidf_vectorizer.get_feature_names()\n",
    "print_top_words(nmf, tfidf_feature_names, n_top_words)\n",
    "\n",
    "print(\"Fitting LDA models with tf features, \"\n",
    "      \"n_features=%d...\"\n",
    "      % ( n_features))\n",
    "lda = LatentDirichletAllocation(n_topics=n_topics, max_iter=5,\n",
    "                                learning_method='online',\n",
    "                                learning_offset=50.,\n",
    "                                random_state=0)\n",
    "t0 = time()\n",
    "lda.fit(tf)\n",
    "print(\"done in %0.3fs.\" % (time() - t0))\n",
    "\n",
    "print(\"\\nTopics in LDA model:\")\n",
    "tf_feature_names = tf_vectorizer.get_feature_names()\n",
    "print_top_words(lda, tf_feature_names, n_top_words)"
   ]
  },
  {
   "cell_type": "code",
   "execution_count": 11,
   "metadata": {
    "collapsed": false
   },
   "outputs": [
    {
     "name": "stdout",
     "output_type": "stream",
     "text": [
      "Train accuracy:  0.610625535561\n",
      "Test accuracy:  0.605499871498\n"
     ]
    }
   ],
   "source": [
    "lda_topics = lda.fit_transform(tf)\n",
    "\n",
    "#Use scikit-learn's MultinomialNB() classifier with default parameters\n",
    "from sklearn.naive_bayes import MultinomialNB\n",
    "\n",
    "#train the classifier over the training set and test on the test set\n",
    "NB = MultinomialNB()\n",
    "NB.fit(lda_topics, ytrain)\n",
    "\n",
    "tf_test = tf_vectorizer.fit_transform(Xtest)\n",
    "lda_test = lda.fit_transform(tf_test)\n",
    "y_pred = NB.predict(lda_test)\n",
    "\n",
    "# print the accuracy scores for both the training and the test sets\n",
    "from sklearn.metrics import accuracy_score\n",
    "print('Train accuracy: ',accuracy_score(NB.predict(lda_topics), ytrain))\n",
    "print('Test accuracy: ',accuracy_score(y_pred, ytest))"
   ]
  },
  {
   "cell_type": "code",
   "execution_count": 12,
   "metadata": {
    "collapsed": false
   },
   "outputs": [
    {
     "name": "stdout",
     "output_type": "stream",
     "text": [
      "Train accuracy:  0.737617823479\n",
      "Test accuracy:  0.526342842457\n"
     ]
    }
   ],
   "source": [
    "tfidf_test = tfidf_vectorizer.fit_transform(Xtest)\n",
    "NB.fit(tfidf, ytrain)\n",
    "\n",
    "tfidf_test = tf_vectorizer.fit_transform(Xtest)\n",
    "y_pred = NB.predict(tfidf_test)\n",
    "\n",
    "# print the accuracy scores for both the training and the test sets\n",
    "from sklearn.metrics import accuracy_score\n",
    "print('Train accuracy: ',accuracy_score(NB.predict(tfidf), ytrain))\n",
    "print('Test accuracy: ',accuracy_score(y_pred, ytest))"
   ]
  },
  {
   "cell_type": "code",
   "execution_count": 17,
   "metadata": {
    "collapsed": false
   },
   "outputs": [
    {
     "name": "stdout",
     "output_type": "stream",
     "text": [
      "Train accuracy:  0.953641816624\n",
      "Test accuracy:  0.565407350296\n"
     ]
    }
   ],
   "source": [
    "# build a Random Forest model\n",
    "RF = RandomForestClassifier(n_estimators= 100)\n",
    "RF.fit(lda_topics, ytrain)\n",
    "y_pred = RF.predict(lda_test)\n",
    "\n",
    "# print the accuracy scores for both the training and the test sets\n",
    "print('Train accuracy: ',accuracy_score(RF.predict(lda_topics), ytrain))\n",
    "print('Test accuracy: ',accuracy_score(y_pred, ytest))"
   ]
  },
  {
   "cell_type": "code",
   "execution_count": 18,
   "metadata": {
    "collapsed": false
   },
   "outputs": [
    {
     "name": "stdout",
     "output_type": "stream",
     "text": [
      "Train accuracy:  0.979605826907\n",
      "Test accuracy:  0.452582883577\n"
     ]
    }
   ],
   "source": [
    "# build a Random Forest model\n",
    "RF = RandomForestClassifier(n_estimators= 100)\n",
    "RF.fit(tfidf, ytrain)\n",
    "y_pred = RF.predict(tfidf_test)\n",
    "\n",
    "# print the accuracy scores for both the training and the test sets\n",
    "print('Train accuracy: ',accuracy_score(RF.predict(tfidf), ytrain))\n",
    "print('Test accuracy: ',accuracy_score(y_pred, ytest))"
   ]
  },
  {
   "cell_type": "code",
   "execution_count": 20,
   "metadata": {
    "collapsed": false
   },
   "outputs": [
    {
     "name": "stdout",
     "output_type": "stream",
     "text": [
      "             precision    recall  f1-score   support\n",
      "\n",
      "          0       0.39      0.69      0.50      1535\n",
      "          1       0.60      0.30      0.40      2356\n",
      "\n",
      "avg / total       0.51      0.45      0.44      3891\n",
      "\n"
     ]
    }
   ],
   "source": [
    "from sklearn import metrics\n",
    "print(metrics.classification_report(ytest, y_pred))"
   ]
  },
  {
   "cell_type": "markdown",
   "metadata": {
    "collapsed": true
   },
   "source": [
    "#### Overall, LDA and TFidf didn't really improve the test accuracy. Even though the training accuracy continud to improve, the model is very likely overfitting."
   ]
  },
  {
   "cell_type": "code",
   "execution_count": null,
   "metadata": {
    "collapsed": true
   },
   "outputs": [],
   "source": []
  }
 ],
 "metadata": {
  "anaconda-cloud": {},
  "kernelspec": {
   "display_name": "Python [conda root]",
   "language": "python",
   "name": "conda-root-py"
  },
  "language_info": {
   "codemirror_mode": {
    "name": "ipython",
    "version": 3
   },
   "file_extension": ".py",
   "mimetype": "text/x-python",
   "name": "python",
   "nbconvert_exporter": "python",
   "pygments_lexer": "ipython3",
   "version": "3.5.2"
  }
 },
 "nbformat": 4,
 "nbformat_minor": 0
}
