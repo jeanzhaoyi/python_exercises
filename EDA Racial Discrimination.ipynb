{
 "cells": [
  {
   "cell_type": "markdown",
   "metadata": {},
   "source": [
    "# Examining Racial Discrimination in the US Job Market\n",
    "\n",
    "### Background\n",
    "Racial discrimination continues to be pervasive in cultures throughout the world. Researchers examined the level of racial discrimination in the United States labor market by randomly assigning identical résumés to black-sounding or white-sounding names and observing the impact on requests for interviews from employers.\n",
    "\n",
    "### Data\n",
    "In the dataset provided, each row represents a resume. The 'race' column has two values, 'b' and 'w', indicating black-sounding and white-sounding. The column 'call' has two values, 1 and 0, indicating whether the resume received a call from employers or not.\n",
    "\n",
    "Note that the 'b' and 'w' values in race are assigned randomly to the resumes when presented to the employer."
   ]
  },
  {
   "cell_type": "markdown",
   "metadata": {},
   "source": [
    "<div class=\"span5 alert alert-info\">\n",
    "### Exercises\n",
    "You will perform a statistical analysis to establish whether race has a significant impact on the rate of callbacks for resumes.\n",
    "\n",
    "Answer the following questions **in this notebook below and submit to your Github account**. \n",
    "\n",
    "   1. What test is appropriate for this problem? Does CLT apply?\n",
    "   2. What are the null and alternate hypotheses?\n",
    "   3. Compute margin of error, confidence interval, and p-value.\n",
    "   4. Write a story describing the statistical significance in the context or the original problem.\n",
    "   5. Does your analysis mean that race/name is the most important factor in callback success? Why or why not? If not, how would you amend your analysis?\n",
    "\n",
    "You can include written notes in notebook cells using Markdown: \n",
    "   - In the control panel at the top, choose Cell > Cell Type > Markdown\n",
    "   - Markdown syntax: http://nestacms.com/docs/creating-content/markdown-cheat-sheet\n",
    "\n",
    "\n",
    "#### Resources\n",
    "+ Experiment information and data source: http://www.povertyactionlab.org/evaluation/discrimination-job-market-united-states\n",
    "+ Scipy statistical methods: http://docs.scipy.org/doc/scipy/reference/stats.html \n",
    "+ Markdown syntax: http://nestacms.com/docs/creating-content/markdown-cheat-sheet\n",
    "</div>\n",
    "****"
   ]
  },
  {
   "cell_type": "code",
   "execution_count": 1,
   "metadata": {
    "collapsed": true
   },
   "outputs": [],
   "source": [
    "import pandas as pd\n",
    "import numpy as np\n",
    "import matplotlib.pyplot as plt\n",
    "from scipy import stats"
   ]
  },
  {
   "cell_type": "code",
   "execution_count": 2,
   "metadata": {
    "collapsed": false
   },
   "outputs": [],
   "source": [
    "data = pd.io.stata.read_stata('data/us_job_market_discrimination.dta')"
   ]
  },
  {
   "cell_type": "code",
   "execution_count": 3,
   "metadata": {
    "collapsed": false
   },
   "outputs": [
    {
     "data": {
      "text/plain": [
       "157.0"
      ]
     },
     "execution_count": 3,
     "metadata": {},
     "output_type": "execute_result"
    }
   ],
   "source": [
    "# number of callbacks for black-sounding names\n",
    "sum(data[data.race=='b'].call)"
   ]
  },
  {
   "cell_type": "code",
   "execution_count": 10,
   "metadata": {
    "collapsed": false
   },
   "outputs": [
    {
     "data": {
      "text/html": [
       "<div>\n",
       "<table border=\"1\" class=\"dataframe\">\n",
       "  <thead>\n",
       "    <tr style=\"text-align: right;\">\n",
       "      <th></th>\n",
       "      <th>workinschool</th>\n",
       "      <th>email</th>\n",
       "      <th>computerskills</th>\n",
       "      <th>specialskills</th>\n",
       "      <th>firstname</th>\n",
       "      <th>sex</th>\n",
       "      <th>race</th>\n",
       "      <th>h</th>\n",
       "      <th>l</th>\n",
       "      <th>call</th>\n",
       "      <th>city</th>\n",
       "      <th>kind</th>\n",
       "      <th>adid</th>\n",
       "      <th>fracblack</th>\n",
       "      <th>fracwhite</th>\n",
       "      <th>lmedhhinc</th>\n",
       "      <th>fracdropout</th>\n",
       "      <th>fraccolp</th>\n",
       "      <th>linc</th>\n",
       "    </tr>\n",
       "  </thead>\n",
       "  <tbody>\n",
       "    <tr>\n",
       "      <th>1</th>\n",
       "      <td>1</td>\n",
       "      <td>1</td>\n",
       "      <td>1</td>\n",
       "      <td>0</td>\n",
       "      <td>Kristen</td>\n",
       "      <td>f</td>\n",
       "      <td>w</td>\n",
       "      <td>1.0</td>\n",
       "      <td>0.0</td>\n",
       "      <td>0.0</td>\n",
       "      <td>c</td>\n",
       "      <td>a</td>\n",
       "      <td>384.0</td>\n",
       "      <td>0.080736</td>\n",
       "      <td>0.888374</td>\n",
       "      <td>10.408828</td>\n",
       "      <td>0.233687</td>\n",
       "      <td>0.087285</td>\n",
       "      <td>9.532859</td>\n",
       "    </tr>\n",
       "    <tr>\n",
       "      <th>2</th>\n",
       "      <td>1</td>\n",
       "      <td>0</td>\n",
       "      <td>1</td>\n",
       "      <td>0</td>\n",
       "      <td>Lakisha</td>\n",
       "      <td>f</td>\n",
       "      <td>b</td>\n",
       "      <td>0.0</td>\n",
       "      <td>1.0</td>\n",
       "      <td>0.0</td>\n",
       "      <td>c</td>\n",
       "      <td>a</td>\n",
       "      <td>384.0</td>\n",
       "      <td>0.104301</td>\n",
       "      <td>0.837370</td>\n",
       "      <td>10.466754</td>\n",
       "      <td>0.101335</td>\n",
       "      <td>0.591695</td>\n",
       "      <td>10.540329</td>\n",
       "    </tr>\n",
       "    <tr>\n",
       "      <th>3</th>\n",
       "      <td>0</td>\n",
       "      <td>1</td>\n",
       "      <td>1</td>\n",
       "      <td>1</td>\n",
       "      <td>Latonya</td>\n",
       "      <td>f</td>\n",
       "      <td>b</td>\n",
       "      <td>1.0</td>\n",
       "      <td>0.0</td>\n",
       "      <td>0.0</td>\n",
       "      <td>c</td>\n",
       "      <td>a</td>\n",
       "      <td>384.0</td>\n",
       "      <td>0.336165</td>\n",
       "      <td>0.637370</td>\n",
       "      <td>10.431908</td>\n",
       "      <td>0.108848</td>\n",
       "      <td>0.406576</td>\n",
       "      <td>10.412141</td>\n",
       "    </tr>\n",
       "    <tr>\n",
       "      <th>4</th>\n",
       "      <td>1</td>\n",
       "      <td>1</td>\n",
       "      <td>1</td>\n",
       "      <td>0</td>\n",
       "      <td>Carrie</td>\n",
       "      <td>f</td>\n",
       "      <td>w</td>\n",
       "      <td>1.0</td>\n",
       "      <td>0.0</td>\n",
       "      <td>0.0</td>\n",
       "      <td>c</td>\n",
       "      <td>a</td>\n",
       "      <td>385.0</td>\n",
       "      <td>0.397595</td>\n",
       "      <td>0.180196</td>\n",
       "      <td>9.876219</td>\n",
       "      <td>0.312873</td>\n",
       "      <td>0.030847</td>\n",
       "      <td>8.728264</td>\n",
       "    </tr>\n",
       "  </tbody>\n",
       "</table>\n",
       "</div>"
      ],
      "text/plain": [
       "   workinschool  email  computerskills  specialskills firstname sex race    h  \\\n",
       "1             1      1               1              0   Kristen   f    w  1.0   \n",
       "2             1      0               1              0   Lakisha   f    b  0.0   \n",
       "3             0      1               1              1   Latonya   f    b  1.0   \n",
       "4             1      1               1              0    Carrie   f    w  1.0   \n",
       "\n",
       "     l  call city kind   adid  fracblack  fracwhite  lmedhhinc  fracdropout  \\\n",
       "1  0.0   0.0    c    a  384.0   0.080736   0.888374  10.408828     0.233687   \n",
       "2  1.0   0.0    c    a  384.0   0.104301   0.837370  10.466754     0.101335   \n",
       "3  0.0   0.0    c    a  384.0   0.336165   0.637370  10.431908     0.108848   \n",
       "4  0.0   0.0    c    a  385.0   0.397595   0.180196   9.876219     0.312873   \n",
       "\n",
       "   fraccolp       linc  \n",
       "1  0.087285   9.532859  \n",
       "2  0.591695  10.540329  \n",
       "3  0.406576  10.412141  \n",
       "4  0.030847   8.728264  "
      ]
     },
     "execution_count": 10,
     "metadata": {},
     "output_type": "execute_result"
    }
   ],
   "source": [
    "data.iloc[1:5,11:30]"
   ]
  },
  {
   "cell_type": "code",
   "execution_count": 20,
   "metadata": {
    "collapsed": false
   },
   "outputs": [
    {
     "data": {
      "text/plain": [
       "race  call\n",
       "b     0.0     2278\n",
       "      1.0      157\n",
       "w     0.0     2200\n",
       "      1.0      235\n",
       "dtype: int64"
      ]
     },
     "execution_count": 20,
     "metadata": {},
     "output_type": "execute_result"
    }
   ],
   "source": [
    "data.groupby([\"race\", \"call\"]).size()\n",
    "# it seems that there is indeed a higher proportion of white that got called back\n",
    "# there are equal sample sizes for black and white people"
   ]
  },
  {
   "cell_type": "code",
   "execution_count": 12,
   "metadata": {
    "collapsed": false
   },
   "outputs": [
    {
     "data": {
      "image/png": "[encoded data removed]",
      "text/plain": [
       "<matplotlib.figure.Figure at 0x116c59f98>"
      ]
     },
     "metadata": {},
     "output_type": "display_data"
    }
   ],
   "source": [
    "plt.hist(data.call, 20,  facecolor='green', alpha=0.75)\n",
    "\n",
    "plt.xlabel('Call Back Rate')\n",
    "plt.ylabel('Frequency')\n",
    "\n",
    "plt.show()"
   ]
  },
  {
   "cell_type": "markdown",
   "metadata": {},
   "source": [
    "### 1. What test is appropriate for this problem? Does CLT apply?\n",
    "CLT does apply in that the sample size is large enough, so a two-sample z-test could be appropriate.\n",
    "However, there are multiple potential factors to CLT that interact with each other.\n",
    "It is best to use a logistic regression so that we could hold other factors relatively constant.\n",
    "### 2. What are the null and alternate hypotheses?\n",
    "Null hypothesis: The probability of a white and a black getting a call back is the same.\n",
    "Alternate hypothesis: The probability difference between a white and a black person getting called back is not zero.\n",
    "\n",
    "### 3. Compute margin of error, confidence interval, and p-value."
   ]
  },
  {
   "cell_type": "code",
   "execution_count": 3,
   "metadata": {
    "collapsed": false
   },
   "outputs": [
    {
     "name": "stdout",
     "output_type": "stream",
     "text": [
      "Z score: 4.108412152434346\n",
      "P-value: 3.983886837585077e-05\n"
     ]
    }
   ],
   "source": [
    "w = data[data.race=='w']\n",
    "b = data[data.race=='b']\n",
    "\n",
    "n_w = len(w)\n",
    "n_b = len(b)\n",
    "\n",
    "prop_w = np.sum(w.call) / len(w)\n",
    "prop_b = np.sum(b.call) / len(b)\n",
    "\n",
    "prop_diff = prop_w - prop_b\n",
    "phat = (np.sum(w.call) + np.sum(b.call)) / (len(w) + len(b))\n",
    "\n",
    "z = prop_diff / np.sqrt(phat * (1 - phat) * ((1 / n_w) + (1 / n_b)))\n",
    "pval = stats.norm.cdf(-z) * 2\n",
    "print(\"Z score: {}\".format(z))\n",
    "print(\"P-value: {}\".format(pval))"
   ]
  },
  {
   "cell_type": "markdown",
   "metadata": {},
   "source": [
    "Since the p-value is significantly smaller than 0.01, we reject the null hypothesis that white and black sounding names have the same callback rate."
   ]
  },
  {
   "cell_type": "code",
   "execution_count": 4,
   "metadata": {
    "collapsed": false
   },
   "outputs": [
    {
     "name": "stdout",
     "output_type": "stream",
     "text": [
      "Margin of Error: 0.015281912310894095\n",
      "Confidence interval: [ 0.01675094  0.04731477]\n"
     ]
    }
   ],
   "source": [
    "moe = 1.96 * np.sqrt(phat * (1 - phat) * ((1 / n_w) + (1 / n_b)))\n",
    "ci = prop_diff + np.array([-1, 1]) * moe\n",
    "print(\"Margin of Error: {}\".format(moe))\n",
    "print(\"Confidence interval: {}\".format(ci))"
   ]
  },
  {
   "cell_type": "markdown",
   "metadata": {},
   "source": [
    "### 4.Write a story describing the statistical significance in the context or the original problem.\n",
    "There is significantly higher probability of a white candidate being called back than a black candidate.\n",
    "\n",
    "### 5. Does your analysis mean that race/name is the most important factor in callback success? Why or why not? If not, how would you amend your analysis?\n",
    "The importance of race may have not been as significant if other factors were considered.\n",
    "For instance, there is likely a positive correlation between being white and getting a higher level of education or more work experiences.\n",
    "I would change this analysis to a logistic regression to account for all other potential factors.\n",
    "Before logistic regression, I would first apply a chi-squared distribution with 1 degree of freedom. "
   ]
  },
  {
   "cell_type": "code",
   "execution_count": 22,
   "metadata": {
    "collapsed": false
   },
   "outputs": [
    {
     "data": {
      "text/plain": [
       "Power_divergenceResult(statistic=array([ 8.43952521,  8.43952521]), pvalue=array([ 0.00367152,  0.00367152]))"
      ]
     },
     "execution_count": 22,
     "metadata": {},
     "output_type": "execute_result"
    }
   ],
   "source": [
    "obs_array = [[2278, 2200],\n",
    "            [157, 235]]\n",
    "exp_array = [[2239, 2239],\n",
    "            [196,196]]\n",
    "stats.chisquare(obs_array, exp_array)\n",
    "# the p-value is smaller than 0.05 so that we reject the null hypothesis"
   ]
  },
  {
   "cell_type": "code",
   "execution_count": 7,
   "metadata": {
    "collapsed": false
   },
   "outputs": [
    {
     "data": {
      "text/html": [
       "<div>\n",
       "<table border=\"1\" class=\"dataframe\">\n",
       "  <thead>\n",
       "    <tr style=\"text-align: right;\">\n",
       "      <th>race</th>\n",
       "      <th>b</th>\n",
       "      <th>w</th>\n",
       "    </tr>\n",
       "    <tr>\n",
       "      <th>call</th>\n",
       "      <th></th>\n",
       "      <th></th>\n",
       "    </tr>\n",
       "  </thead>\n",
       "  <tbody>\n",
       "    <tr>\n",
       "      <th>0.0</th>\n",
       "      <td>2278</td>\n",
       "      <td>2200</td>\n",
       "    </tr>\n",
       "    <tr>\n",
       "      <th>1.0</th>\n",
       "      <td>157</td>\n",
       "      <td>235</td>\n",
       "    </tr>\n",
       "  </tbody>\n",
       "</table>\n",
       "</div>"
      ],
      "text/plain": [
       "race     b     w\n",
       "call            \n",
       "0.0   2278  2200\n",
       "1.0    157   235"
      ]
     },
     "execution_count": 7,
     "metadata": {},
     "output_type": "execute_result"
    }
   ],
   "source": [
    "cont_table = pd.crosstab(index=data.call, columns=data.race)\n",
    "cont_table"
   ]
  },
  {
   "cell_type": "code",
   "execution_count": 8,
   "metadata": {
    "collapsed": false
   },
   "outputs": [
    {
     "name": "stdout",
     "output_type": "stream",
     "text": [
      "Chi-squared test statistic: 16.44902858418937\n",
      "p-value: 4.997578389963255e-05\n"
     ]
    }
   ],
   "source": [
    "chi2, pval, _, _ = stats.chi2_contingency(cont_table)\n",
    "print(\"Chi-squared test statistic: {}\".format(chi2))\n",
    "print(\"p-value: {}\".format(pval))"
   ]
  },
  {
   "cell_type": "markdown",
   "metadata": {},
   "source": [
    "Still reject the hypothesis that the black and white race had the same call rate.\n",
    "In other words, the call rate is different by race."
   ]
  },
  {
   "cell_type": "code",
   "execution_count": null,
   "metadata": {
    "collapsed": true
   },
   "outputs": [],
   "source": []
  }
 ],
 "metadata": {
  "anaconda-cloud": {},
  "kernelspec": {
   "display_name": "Python [conda root]",
   "language": "python",
   "name": "conda-root-py"
  },
  "language_info": {
   "codemirror_mode": {
    "name": "ipython",
    "version": 3
   },
   "file_extension": ".py",
   "mimetype": "text/x-python",
   "name": "python",
   "nbconvert_exporter": "python",
   "pygments_lexer": "ipython3",
   "version": "3.5.2"
  }
 },
 "nbformat": 4,
 "nbformat_minor": 0
}
