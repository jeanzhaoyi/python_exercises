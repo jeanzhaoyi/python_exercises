{
 "cells": [
  {
   "cell_type": "code",
   "execution_count": 6,
   "metadata": {
    "collapsed": true
   },
   "outputs": [],
   "source": [
    "import json\n",
    "from pandas.io.json import json_normalize                                                                                                                                                           \n",
    "import pandas as pd\n",
    "import numpy as np\n",
    "import re"
   ]
  },
  {
   "cell_type": "code",
   "execution_count": 7,
   "metadata": {
    "collapsed": true
   },
   "outputs": [],
   "source": [
    "f= open(\"amazon-meta.txt\", \"r\")\n",
    "file_list = f.read().split('\\n\\n') # split by double return spaces"
   ]
  },
  {
   "cell_type": "code",
   "execution_count": 13,
   "metadata": {
    "collapsed": false
   },
   "outputs": [
    {
     "data": {
      "text/plain": [
       "['Id:   0', 'ASIN: 0771044445', '  discontinued product']"
      ]
     },
     "execution_count": 13,
     "metadata": {},
     "output_type": "execute_result"
    }
   ],
   "source": [
    "file_list[1].split('\\n') # view the first product"
   ]
  },
  {
   "cell_type": "code",
   "execution_count": 19,
   "metadata": {
    "collapsed": false
   },
   "outputs": [
    {
     "data": {
      "text/plain": [
       "['Id:   1',\n",
       " 'ASIN: 0827229534',\n",
       " '  title: Patterns of Preaching: A Sermon Sampler',\n",
       " '  group: Book',\n",
       " '  salesrank: 396585',\n",
       " '  similar: 5  0804215715  156101074X  0687023955  0687074231  082721619X',\n",
       " '  categories: 2',\n",
       " '   |Books[283155]|Subjects[1000]|Religion & Spirituality[22]|Christianity[12290]|Clergy[12360]|Preaching[12368]',\n",
       " '   |Books[283155]|Subjects[1000]|Religion & Spirituality[22]|Christianity[12290]|Clergy[12360]|Sermons[12370]',\n",
       " '  reviews: total: 2  downloaded: 2  avg rating: 5',\n",
       " '    2000-7-28  cutomer: A2JW67OY8U6HHK  rating: 5  votes:  10  helpful:   9',\n",
       " '    2003-12-14  cutomer: A2VE83MZF98ITY  rating: 5  votes:   6  helpful:   5']"
      ]
     },
     "execution_count": 19,
     "metadata": {},
     "output_type": "execute_result"
    }
   ],
   "source": [
    "file_list[2].split('\\n') # view the second product"
   ]
  },
  {
   "cell_type": "code",
   "execution_count": 17,
   "metadata": {
    "collapsed": false
   },
   "outputs": [
    {
     "data": {
      "text/plain": [
       "{'categories': [{'category': '|Books[283155]|Subjects[1000]|Religion&Spirituality[22]|Christianity[12290]|Clergy[12360]|Preaching[12368]'},\n",
       "  {'category': '|Books[283155]|Subjects[1000]|Religion&Spirituality[22]|Christianity[12290]|Clergy[12360]|Sermons[12370]'}]}"
      ]
     },
     "execution_count": 17,
     "metadata": {},
     "output_type": "execute_result"
    }
   ],
   "source": [
    "#d = {}\n",
    "#d['categories'] = []\n",
    "line = \"   |Books[283155]|Subjects[1000]|Religion & Spirituality[22]|Christianity[12290]|Clergy[12360]|Sermons[12370]\"\n",
    "items = line.split(\":\")\n",
    "key = re.sub(pattern=' ',repl= '',string=items[0]) \n",
    "key\n",
    "d['categories'].append({'category': key})\n",
    "d"
   ]
  },
  {
   "cell_type": "code",
   "execution_count": 27,
   "metadata": {
    "collapsed": false
   },
   "outputs": [
    {
     "data": {
      "text/plain": [
       "{'ASIN': ' 0827229534',\n",
       " 'Id': '   1',\n",
       " 'cat_entries': [{'category': '|Books[283155]|Subjects[1000]|Religion&Spirituality[22]|Christianity[12290]|Clergy[12360]|Preaching[12368]'},\n",
       "  {'category': '|Books[283155]|Subjects[1000]|Religion&Spirituality[22]|Christianity[12290]|Clergy[12360]|Sermons[12370]'}],\n",
       " 'categories': ' 2',\n",
       " 'group': ' Book',\n",
       " 'individuals': [{'cutomer': ' A2JW67OY8U6HHK',\n",
       "   'date': '    2000-7-28',\n",
       "   'helpful': '   9',\n",
       "   'rating': ' 5',\n",
       "   'votes': '  10'},\n",
       "  {'cutomer': ' A2VE83MZF98ITY',\n",
       "   'date': '    2003-12-14',\n",
       "   'helpful': '   5',\n",
       "   'rating': ' 5',\n",
       "   'votes': '   6'}],\n",
       " 'reviews': {'downloaded': ' 2', 'rating': ' 5', 'total': ' 2'},\n",
       " 'salesrank': ' 396585',\n",
       " 'similar': ' 5  0804215715  156101074X  0687023955  0687074231  082721619X',\n",
       " 'title': ' Patterns of Preaching: A Sermon Sampler'}"
      ]
     },
     "execution_count": 27,
     "metadata": {},
     "output_type": "execute_result"
    }
   ],
   "source": [
    "# Define a function to parse a list of lines into a dictionary \n",
    "\n",
    "def get_dict(list_lines, spli_s ): # the character for splitting is usually \":\"\n",
    "    d = {}\n",
    "    if len(list_lines) > 8: # filter out those products with no reviews\n",
    "        d['individuals'] = []\n",
    "        d['cat_entries'] = []\n",
    "        \n",
    "    for i in range(len(list_lines)):\n",
    "        line = list_lines[i]\n",
    "        items = line.split(spli_s)\n",
    "        \n",
    "        # collapse the key into a character string with no empty space \n",
    "        key = re.sub(pattern=' ',repl= '',string=items[0]) \n",
    "        \n",
    "        if '|' in items[0][:10]: # those starting with '|' are categories\n",
    "            d['cat_entries'].append({'category': key})  # created nested list of dictionaries\n",
    "            next # break out to the next loop\n",
    "            \n",
    "        elif len(items) < 4:\n",
    "            val = ':'.join(items[1:])\n",
    "            d[key] = val\n",
    "        else:\n",
    "            # put the items back to its original form\n",
    "            temp_val = ':'.join(items[1:])\n",
    "            \n",
    "            if key[-5:]== 'tomer': # check if it was a specific review\n",
    "                temp_val = 'date:' + ':'.join(items) # add 'date' to the original line\n",
    "                #key = 'individuals:' # master layer to all the inidividual reviews\n",
    "\n",
    "        # parse the meta info on reviews, use 'findall' to divide into a list of \"key:val\" \n",
    "            nest_dic = get_dict(re.findall(r\"\\w+:\\s+\\S+\", temp_val), ':')\n",
    "            if key[-5:]== 'tomer':\n",
    "                d['individuals'].append(nest_dic) # nested reviews\n",
    "            else: # super long item\n",
    "                d[key] = nest_dic \n",
    "    return d\n",
    "get_dict(file_list[2].split('\\n'), ':')"
   ]
  },
  {
   "cell_type": "code",
   "execution_count": 28,
   "metadata": {
    "collapsed": false
   },
   "outputs": [],
   "source": [
    "all_dict = [get_dict(L.split('\\n'), ':') for L in file_list if len(L.split('\\n')) > 8]\n",
    "# keep only the ones with all the keys"
   ]
  },
  {
   "cell_type": "code",
   "execution_count": 29,
   "metadata": {
    "collapsed": false
   },
   "outputs": [
    {
     "data": {
      "text/plain": [
       "dict_keys(['similar', 'group', 'salesrank', 'ASIN', 'categories', 'title', 'individuals', 'cat_entries', 'Id', 'reviews'])"
      ]
     },
     "execution_count": 29,
     "metadata": {},
     "output_type": "execute_result"
    }
   ],
   "source": [
    "# print out all the keys in the complete dictionary\n",
    "all_dict[2].keys()"
   ]
  },
  {
   "cell_type": "code",
   "execution_count": 76,
   "metadata": {
    "collapsed": true
   },
   "outputs": [],
   "source": [
    "with open('meta-data.json', 'w') as outfile:\n",
    "    #json.dump(all_dict, outfile)\n",
    "    json.dumps([dict(pn) for pn in all_dict], outfile) #save the file as json format"
   ]
  },
  {
   "cell_type": "code",
   "execution_count": 95,
   "metadata": {
    "collapsed": false
   },
   "outputs": [],
   "source": [
    "\n",
    "#json_df = pd.read_json('meta-data.json')\n",
    "#json_df.head()"
   ]
  },
  {
   "cell_type": "code",
   "execution_count": 32,
   "metadata": {
    "collapsed": false
   },
   "outputs": [],
   "source": [
    "data_raw = json_normalize(all_dict, 'individuals', \n",
    "                          ['Id','ASIN','title','group','categories','salesrank','similar',\n",
    "                           ['reviews', 'total']\n",
    "                          ]) # some may have no ratings at all"
   ]
  },
  {
   "cell_type": "code",
   "execution_count": 98,
   "metadata": {
    "collapsed": false
   },
   "outputs": [
    {
     "data": {
      "text/html": [
       "<div>\n",
       "<table border=\"1\" class=\"dataframe\">\n",
       "  <thead>\n",
       "    <tr style=\"text-align: right;\">\n",
       "      <th></th>\n",
       "      <th>cutomer</th>\n",
       "      <th>date</th>\n",
       "      <th>helpful</th>\n",
       "      <th>individuals</th>\n",
       "      <th>rating</th>\n",
       "      <th>votes</th>\n",
       "      <th>reviews.total</th>\n",
       "      <th>group</th>\n",
       "      <th>salesrank</th>\n",
       "      <th>category</th>\n",
       "      <th>similar</th>\n",
       "      <th>categories</th>\n",
       "      <th>Id</th>\n",
       "      <th>title</th>\n",
       "      <th>ASIN</th>\n",
       "    </tr>\n",
       "  </thead>\n",
       "  <tbody>\n",
       "    <tr>\n",
       "      <th>0</th>\n",
       "      <td>A2JW67OY8U6HHK</td>\n",
       "      <td>2000-7-28</td>\n",
       "      <td>9</td>\n",
       "      <td>[]</td>\n",
       "      <td>5</td>\n",
       "      <td>10</td>\n",
       "      <td>2</td>\n",
       "      <td>Book</td>\n",
       "      <td>396585</td>\n",
       "      <td>|Books[283155]|Subjects[1000]|Religion&amp;Spiritu...</td>\n",
       "      <td>5  0804215715  156101074X  0687023955  068707...</td>\n",
       "      <td>2</td>\n",
       "      <td>1</td>\n",
       "      <td>Patterns of Preaching: A Sermon Sampler</td>\n",
       "      <td>0827229534</td>\n",
       "    </tr>\n",
       "    <tr>\n",
       "      <th>1</th>\n",
       "      <td>A2VE83MZF98ITY</td>\n",
       "      <td>2003-12-14</td>\n",
       "      <td>5</td>\n",
       "      <td>[]</td>\n",
       "      <td>5</td>\n",
       "      <td>6</td>\n",
       "      <td>2</td>\n",
       "      <td>Book</td>\n",
       "      <td>396585</td>\n",
       "      <td>|Books[283155]|Subjects[1000]|Religion&amp;Spiritu...</td>\n",
       "      <td>5  0804215715  156101074X  0687023955  068707...</td>\n",
       "      <td>2</td>\n",
       "      <td>1</td>\n",
       "      <td>Patterns of Preaching: A Sermon Sampler</td>\n",
       "      <td>0827229534</td>\n",
       "    </tr>\n",
       "    <tr>\n",
       "      <th>2</th>\n",
       "      <td>A11NCO6YTE4BTJ</td>\n",
       "      <td>2001-12-16</td>\n",
       "      <td>4</td>\n",
       "      <td>[]</td>\n",
       "      <td>5</td>\n",
       "      <td>5</td>\n",
       "      <td>12</td>\n",
       "      <td>Book</td>\n",
       "      <td>168596</td>\n",
       "      <td>|Books[283155]|Subjects[1000]|Religion&amp;Spiritu...</td>\n",
       "      <td>5  0738700827  1567184960  1567182836  073870...</td>\n",
       "      <td>2</td>\n",
       "      <td>2</td>\n",
       "      <td>Candlemas: Feast of Flames</td>\n",
       "      <td>0738700797</td>\n",
       "    </tr>\n",
       "    <tr>\n",
       "      <th>3</th>\n",
       "      <td>A9CQ3PLRNIR83</td>\n",
       "      <td>2002-1-7</td>\n",
       "      <td>5</td>\n",
       "      <td>[]</td>\n",
       "      <td>4</td>\n",
       "      <td>5</td>\n",
       "      <td>12</td>\n",
       "      <td>Book</td>\n",
       "      <td>168596</td>\n",
       "      <td>|Books[283155]|Subjects[1000]|Religion&amp;Spiritu...</td>\n",
       "      <td>5  0738700827  1567184960  1567182836  073870...</td>\n",
       "      <td>2</td>\n",
       "      <td>2</td>\n",
       "      <td>Candlemas: Feast of Flames</td>\n",
       "      <td>0738700797</td>\n",
       "    </tr>\n",
       "    <tr>\n",
       "      <th>4</th>\n",
       "      <td>A13SG9ACZ9O5IM</td>\n",
       "      <td>2002-1-24</td>\n",
       "      <td>8</td>\n",
       "      <td>[]</td>\n",
       "      <td>5</td>\n",
       "      <td>8</td>\n",
       "      <td>12</td>\n",
       "      <td>Book</td>\n",
       "      <td>168596</td>\n",
       "      <td>|Books[283155]|Subjects[1000]|Religion&amp;Spiritu...</td>\n",
       "      <td>5  0738700827  1567184960  1567182836  073870...</td>\n",
       "      <td>2</td>\n",
       "      <td>2</td>\n",
       "      <td>Candlemas: Feast of Flames</td>\n",
       "      <td>0738700797</td>\n",
       "    </tr>\n",
       "  </tbody>\n",
       "</table>\n",
       "</div>"
      ],
      "text/plain": [
       "           cutomer            date helpful individuals rating votes  \\\n",
       "0   A2JW67OY8U6HHK       2000-7-28       9          []      5    10   \n",
       "1   A2VE83MZF98ITY      2003-12-14       5          []      5     6   \n",
       "2   A11NCO6YTE4BTJ      2001-12-16       4          []      5     5   \n",
       "3    A9CQ3PLRNIR83        2002-1-7       5          []      4     5   \n",
       "4   A13SG9ACZ9O5IM       2002-1-24       8          []      5     8   \n",
       "\n",
       "  reviews.total  group salesrank  \\\n",
       "0             2   Book    396585   \n",
       "1             2   Book    396585   \n",
       "2            12   Book    168596   \n",
       "3            12   Book    168596   \n",
       "4            12   Book    168596   \n",
       "\n",
       "                                            category  \\\n",
       "0  |Books[283155]|Subjects[1000]|Religion&Spiritu...   \n",
       "1  |Books[283155]|Subjects[1000]|Religion&Spiritu...   \n",
       "2  |Books[283155]|Subjects[1000]|Religion&Spiritu...   \n",
       "3  |Books[283155]|Subjects[1000]|Religion&Spiritu...   \n",
       "4  |Books[283155]|Subjects[1000]|Religion&Spiritu...   \n",
       "\n",
       "                                             similar categories    Id  \\\n",
       "0   5  0804215715  156101074X  0687023955  068707...          2     1   \n",
       "1   5  0804215715  156101074X  0687023955  068707...          2     1   \n",
       "2   5  0738700827  1567184960  1567182836  073870...          2     2   \n",
       "3   5  0738700827  1567184960  1567182836  073870...          2     2   \n",
       "4   5  0738700827  1567184960  1567182836  073870...          2     2   \n",
       "\n",
       "                                      title         ASIN  \n",
       "0   Patterns of Preaching: A Sermon Sampler   0827229534  \n",
       "1   Patterns of Preaching: A Sermon Sampler   0827229534  \n",
       "2                Candlemas: Feast of Flames   0738700797  \n",
       "3                Candlemas: Feast of Flames   0738700797  \n",
       "4                Candlemas: Feast of Flames   0738700797  "
      ]
     },
     "execution_count": 98,
     "metadata": {},
     "output_type": "execute_result"
    }
   ],
   "source": [
    "data_raw.head()"
   ]
  },
  {
   "cell_type": "code",
   "execution_count": 99,
   "metadata": {
    "collapsed": true
   },
   "outputs": [],
   "source": [
    "data_raw = data_raw.drop('individuals', axis = 1)\n",
    "data_raw.to_csv('meta-data_raw.csv')"
   ]
  },
  {
   "cell_type": "markdown",
   "metadata": {},
   "source": [
    "## 1. Trustworthiness of ratings\n",
    "Ratings are susceptible to manipulation, bias etc. \n",
    "<p>What can you say (quantitatively\n",
    "speaking) about the ratings in this dataset?"
   ]
  },
  {
   "cell_type": "code",
   "execution_count": 62,
   "metadata": {
    "collapsed": true
   },
   "outputs": [],
   "source": [
    "import matplotlib.pyplot as plt"
   ]
  },
  {
   "cell_type": "code",
   "execution_count": 103,
   "metadata": {
    "collapsed": false
   },
   "outputs": [],
   "source": [
    "data_raw.rating = data_raw.rating.astype(int)\n",
    "data_raw.salesrank = data_raw.salesrank.astype(int)"
   ]
  },
  {
   "cell_type": "code",
   "execution_count": 115,
   "metadata": {
    "collapsed": false
   },
   "outputs": [],
   "source": [
    "# aggregate against each product\n",
    "avg_rating = data_raw.groupby('ASIN', as_index=False)[['rating', 'salesrank']].aggregate(np.mean)"
   ]
  },
  {
   "cell_type": "code",
   "execution_count": 116,
   "metadata": {
    "collapsed": false
   },
   "outputs": [
    {
     "data": {
      "text/html": [
       "<div>\n",
       "<table border=\"1\" class=\"dataframe\">\n",
       "  <thead>\n",
       "    <tr style=\"text-align: right;\">\n",
       "      <th></th>\n",
       "      <th>ASIN</th>\n",
       "      <th>rating</th>\n",
       "      <th>salesrank</th>\n",
       "    </tr>\n",
       "  </thead>\n",
       "  <tbody>\n",
       "    <tr>\n",
       "      <th>0</th>\n",
       "      <td>0001047655</td>\n",
       "      <td>3.766667</td>\n",
       "      <td>1116690.0</td>\n",
       "    </tr>\n",
       "    <tr>\n",
       "      <th>1</th>\n",
       "      <td>0001053736</td>\n",
       "      <td>4.600000</td>\n",
       "      <td>53150.0</td>\n",
       "    </tr>\n",
       "    <tr>\n",
       "      <th>2</th>\n",
       "      <td>0001053744</td>\n",
       "      <td>5.000000</td>\n",
       "      <td>500890.0</td>\n",
       "    </tr>\n",
       "    <tr>\n",
       "      <th>3</th>\n",
       "      <td>0001054600</td>\n",
       "      <td>4.159574</td>\n",
       "      <td>2449141.0</td>\n",
       "    </tr>\n",
       "    <tr>\n",
       "      <th>4</th>\n",
       "      <td>0001057170</td>\n",
       "      <td>3.500000</td>\n",
       "      <td>708137.0</td>\n",
       "    </tr>\n",
       "  </tbody>\n",
       "</table>\n",
       "</div>"
      ],
      "text/plain": [
       "          ASIN    rating  salesrank\n",
       "0   0001047655  3.766667  1116690.0\n",
       "1   0001053736  4.600000    53150.0\n",
       "2   0001053744  5.000000   500890.0\n",
       "3   0001054600  4.159574  2449141.0\n",
       "4   0001057170  3.500000   708137.0"
      ]
     },
     "execution_count": 116,
     "metadata": {},
     "output_type": "execute_result"
    }
   ],
   "source": [
    "avg_rating.head()"
   ]
  },
  {
   "cell_type": "code",
   "execution_count": 119,
   "metadata": {
    "collapsed": false
   },
   "outputs": [
    {
     "data": {
      "image/png": "[encoded data removed]",
      "text/plain": [
       "<matplotlib.figure.Figure at 0x19a9fca90>"
      ]
     },
     "metadata": {},
     "output_type": "display_data"
    }
   ],
   "source": [
    "# compare review rating to the sales rank\n",
    "plt.scatter(avg_rating.rating, avg_rating.salesrank)\n",
    "plt.xlabel('Average rating per product')\n",
    "plt.ylabel('Sales ranking')\n",
    "plt.show()"
   ]
  },
  {
   "cell_type": "markdown",
   "metadata": {},
   "source": [
    "* There is sales ranking of the whole range for all average product rating\n",
    "* It even seems that lower rating products have better ranks (small number)\n",
    "* Thus ratings are not reflective of popularity of products and very likely biased."
   ]
  },
  {
   "cell_type": "code",
   "execution_count": 122,
   "metadata": {
    "collapsed": false
   },
   "outputs": [
    {
     "data": {
      "text/html": [
       "<div>\n",
       "<table border=\"1\" class=\"dataframe\">\n",
       "  <thead>\n",
       "    <tr style=\"text-align: right;\">\n",
       "      <th></th>\n",
       "      <th>rating</th>\n",
       "      <th>salesrank</th>\n",
       "    </tr>\n",
       "  </thead>\n",
       "  <tbody>\n",
       "    <tr>\n",
       "      <th>rating</th>\n",
       "      <td>1.000000</td>\n",
       "      <td>-0.017756</td>\n",
       "    </tr>\n",
       "    <tr>\n",
       "      <th>salesrank</th>\n",
       "      <td>-0.017756</td>\n",
       "      <td>1.000000</td>\n",
       "    </tr>\n",
       "  </tbody>\n",
       "</table>\n",
       "</div>"
      ],
      "text/plain": [
       "             rating  salesrank\n",
       "rating     1.000000  -0.017756\n",
       "salesrank -0.017756   1.000000"
      ]
     },
     "execution_count": 122,
     "metadata": {},
     "output_type": "execute_result"
    }
   ],
   "source": [
    "avg_rating.corr() "
   ]
  },
  {
   "cell_type": "code",
   "execution_count": 123,
   "metadata": {
    "collapsed": true
   },
   "outputs": [],
   "source": [
    "# Import regression modules\n",
    "import statsmodels.api as sm\n",
    "from statsmodels.formula.api import ols"
   ]
  },
  {
   "cell_type": "code",
   "execution_count": 124,
   "metadata": {
    "collapsed": false
   },
   "outputs": [
    {
     "name": "stdout",
     "output_type": "stream",
     "text": [
      "                            OLS Regression Results                            \n",
      "==============================================================================\n",
      "Dep. Variable:              salesrank   R-squared:                       0.000\n",
      "Model:                            OLS   Adj. R-squared:                  0.000\n",
      "Method:                 Least Squares   F-statistic:                     127.0\n",
      "Date:                Tue, 18 Apr 2017   Prob (F-statistic):           1.87e-29\n",
      "Time:                        21:17:04   Log-Likelihood:            -5.7680e+06\n",
      "No. Observations:              402724   AIC:                         1.154e+07\n",
      "Df Residuals:                  402722   BIC:                         1.154e+07\n",
      "Df Model:                           1                                         \n",
      "Covariance Type:            nonrobust                                         \n",
      "==============================================================================\n",
      "                 coef    std err          t      P>|t|      [95.0% Conf. Int.]\n",
      "------------------------------------------------------------------------------\n",
      "Intercept   3.945e+05   3777.820    104.412      0.000      3.87e+05  4.02e+05\n",
      "rating     -9733.0862    863.653    -11.270      0.000     -1.14e+04 -8040.353\n",
      "==============================================================================\n",
      "Omnibus:                   194271.501   Durbin-Watson:                   1.189\n",
      "Prob(Omnibus):                  0.000   Jarque-Bera (JB):          1330177.852\n",
      "Skew:                           2.241   Prob(JB):                         0.00\n",
      "Kurtosis:                      10.693   Cond. No.                         27.4\n",
      "==============================================================================\n",
      "\n",
      "Warnings:\n",
      "[1] Standard Errors assume that the covariance matrix of the errors is correctly specified.\n"
     ]
    }
   ],
   "source": [
    "m = ols('salesrank ~ rating', avg_rating).fit()\n",
    "print(m.summary())"
   ]
  },
  {
   "cell_type": "markdown",
   "metadata": {},
   "source": [
    "## 2. Category bloat\n",
    "Consider the product group named 'Books'. \n",
    "<p>a. Is there redundancy in the categorization? How can it be identified/removed?\n",
    "<p>b. Is is possible to reduce the number of categories drastically (say to 10% of existing\n",
    "categories) by sacrificing relatively few category entries (say close to 10%)?"
   ]
  },
  {
   "cell_type": "code",
   "execution_count": 33,
   "metadata": {
    "collapsed": true
   },
   "outputs": [],
   "source": [
    "cat_raw = json_normalize(all_dict, 'cat_entries', \n",
    "                          ['ASIN','group','categories'])"
   ]
  },
  {
   "cell_type": "code",
   "execution_count": 36,
   "metadata": {
    "collapsed": false
   },
   "outputs": [
    {
     "data": {
      "text/html": [
       "<div>\n",
       "<table border=\"1\" class=\"dataframe\">\n",
       "  <thead>\n",
       "    <tr style=\"text-align: right;\">\n",
       "      <th></th>\n",
       "      <th>category</th>\n",
       "      <th>categories</th>\n",
       "      <th>ASIN</th>\n",
       "      <th>group</th>\n",
       "    </tr>\n",
       "  </thead>\n",
       "  <tbody>\n",
       "    <tr>\n",
       "      <th>0</th>\n",
       "      <td>|Books[283155]|Subjects[1000]|Religion&amp;Spiritu...</td>\n",
       "      <td>2</td>\n",
       "      <td>0827229534</td>\n",
       "      <td>Book</td>\n",
       "    </tr>\n",
       "    <tr>\n",
       "      <th>1</th>\n",
       "      <td>|Books[283155]|Subjects[1000]|Religion&amp;Spiritu...</td>\n",
       "      <td>2</td>\n",
       "      <td>0827229534</td>\n",
       "      <td>Book</td>\n",
       "    </tr>\n",
       "    <tr>\n",
       "      <th>2</th>\n",
       "      <td>|Books[283155]|Subjects[1000]|Religion&amp;Spiritu...</td>\n",
       "      <td>2</td>\n",
       "      <td>0738700797</td>\n",
       "      <td>Book</td>\n",
       "    </tr>\n",
       "    <tr>\n",
       "      <th>3</th>\n",
       "      <td>|Books[283155]|Subjects[1000]|Religion&amp;Spiritu...</td>\n",
       "      <td>2</td>\n",
       "      <td>0738700797</td>\n",
       "      <td>Book</td>\n",
       "    </tr>\n",
       "    <tr>\n",
       "      <th>4</th>\n",
       "      <td>|Books[283155]|Subjects[1000]|Home&amp;Garden[48]|...</td>\n",
       "      <td>1</td>\n",
       "      <td>0486287785</td>\n",
       "      <td>Book</td>\n",
       "    </tr>\n",
       "  </tbody>\n",
       "</table>\n",
       "</div>"
      ],
      "text/plain": [
       "                                            category categories         ASIN  \\\n",
       "0  |Books[283155]|Subjects[1000]|Religion&Spiritu...          2   0827229534   \n",
       "1  |Books[283155]|Subjects[1000]|Religion&Spiritu...          2   0827229534   \n",
       "2  |Books[283155]|Subjects[1000]|Religion&Spiritu...          2   0738700797   \n",
       "3  |Books[283155]|Subjects[1000]|Religion&Spiritu...          2   0738700797   \n",
       "4  |Books[283155]|Subjects[1000]|Home&Garden[48]|...          1   0486287785   \n",
       "\n",
       "   group  \n",
       "0   Book  \n",
       "1   Book  \n",
       "2   Book  \n",
       "3   Book  \n",
       "4   Book  "
      ]
     },
     "execution_count": 36,
     "metadata": {},
     "output_type": "execute_result"
    }
   ],
   "source": [
    "cat_raw.head()"
   ]
  },
  {
   "cell_type": "code",
   "execution_count": 136,
   "metadata": {
    "collapsed": false
   },
   "outputs": [
    {
     "data": {
      "text/plain": [
       "array([' Book', ' Music', ' DVD', ' Video', ' Toy', ' Video Games',\n",
       "       ' Software', ' Baby Product', ' CE', ' Sports'], dtype=object)"
      ]
     },
     "execution_count": 136,
     "metadata": {},
     "output_type": "execute_result"
    }
   ],
   "source": [
    "cat_raw.group.unique()"
   ]
  },
  {
   "cell_type": "code",
   "execution_count": 49,
   "metadata": {
    "collapsed": false
   },
   "outputs": [],
   "source": [
    "# subset to only books and category related columns\n",
    "cat_raw.group = cat_raw.group.astype(str)\n",
    "cat_raw.group = cat_raw.group.apply(lambda x: re.sub(' ','', x)) # remove empty strings"
   ]
  },
  {
   "cell_type": "code",
   "execution_count": 51,
   "metadata": {
    "collapsed": false
   },
   "outputs": [
    {
     "name": "stdout",
     "output_type": "stream",
     "text": [
      "<class 'pandas.core.frame.DataFrame'>\n",
      "Int64Index: 1440329 entries, 0 to 2509689\n",
      "Data columns (total 4 columns):\n",
      "category      1440329 non-null object\n",
      "categories    1440329 non-null object\n",
      "ASIN          1440329 non-null object\n",
      "group         1440329 non-null object\n",
      "dtypes: object(4)\n",
      "memory usage: 54.9+ MB\n"
     ]
    }
   ],
   "source": [
    "books_data = cat_raw.loc[cat_raw['group']==\"Book\",: ]\n",
    "books_data.info()"
   ]
  },
  {
   "cell_type": "code",
   "execution_count": 57,
   "metadata": {
    "collapsed": false
   },
   "outputs": [
    {
     "name": "stderr",
     "output_type": "stream",
     "text": [
      "/Users/yizhao/anaconda3/lib/python3.5/site-packages/pandas/core/generic.py:2773: SettingWithCopyWarning: \n",
      "A value is trying to be set on a copy of a slice from a DataFrame.\n",
      "Try using .loc[row_indexer,col_indexer] = value instead\n",
      "\n",
      "See the caveats in the documentation: http://pandas.pydata.org/pandas-docs/stable/indexing.html#indexing-view-versus-copy\n",
      "  self[name] = value\n"
     ]
    },
    {
     "name": "stdout",
     "output_type": "stream",
     "text": [
      "Total products 375139\n",
      "Total categories 12849\n"
     ]
    }
   ],
   "source": [
    "# change types of the variables\n",
    "books_data.category = books_data.category.astype(str)\n",
    "books_data.ASIN = books_data.ASIN.astype(str)\n",
    "books_data.categories = books_data.categories.astype(int)\n",
    "\n",
    "print('Total products',len(books_data.ASIN.unique()))\n",
    "print('Total categories', len(books_data.category.unique()))"
   ]
  },
  {
   "cell_type": "markdown",
   "metadata": {},
   "source": [
    "* The number of unique category entries is 3.4% of the number of products\n",
    "* Redundant categoreis can be removed according to the representation of that category in the whole dataset"
   ]
  },
  {
   "cell_type": "code",
   "execution_count": 65,
   "metadata": {
    "collapsed": false
   },
   "outputs": [
    {
     "data": {
      "text/plain": [
       "0    [Books, Subjects, Religion, Spirituality, Chri...\n",
       "1    [Books, Subjects, Religion, Spirituality, Chri...\n",
       "2    [Books, Subjects, Religion, Spirituality, Eart...\n",
       "3    [Books, Subjects, Religion, Spirituality, Eart...\n",
       "4    [Books, Subjects, Home, Garden, Crafts, Hobbie...\n",
       "Name: category, dtype: object"
      ]
     },
     "execution_count": 65,
     "metadata": {},
     "output_type": "execute_result"
    }
   ],
   "source": [
    "# extract words for the categories\n",
    "cat_all = books_data.category.apply(\n",
    "                    lambda x: re.findall('[a-zA-Z]+',x))\n",
    "\n",
    "\n",
    "cat_all[:5] # a list of category words in sequence"
   ]
  },
  {
   "cell_type": "code",
   "execution_count": 82,
   "metadata": {
    "collapsed": false
   },
   "outputs": [
    {
     "name": "stdout",
     "output_type": "stream",
     "text": [
      "Number of unique category names: 9118\n"
     ]
    }
   ],
   "source": [
    "# get the number of unique categories from flattening the array\n",
    "L = cat_all.as_matrix()\n",
    "all_catNames = [item for sublist in L for item in sublist]\n",
    "n_catNames = len(set(all_catNames))\n",
    "print(\"Number of unique category names:\" , n_catNames)"
   ]
  },
  {
   "cell_type": "code",
   "execution_count": 66,
   "metadata": {
    "collapsed": false
   },
   "outputs": [
    {
     "data": {
      "text/html": [
       "<div>\n",
       "<table border=\"1\" class=\"dataframe\">\n",
       "  <thead>\n",
       "    <tr style=\"text-align: right;\">\n",
       "      <th></th>\n",
       "      <th>Level_1</th>\n",
       "      <th>Level_2</th>\n",
       "      <th>Level_no1</th>\n",
       "      <th>Level_no2</th>\n",
       "      <th>Original</th>\n",
       "    </tr>\n",
       "  </thead>\n",
       "  <tbody>\n",
       "    <tr>\n",
       "      <th>0</th>\n",
       "      <td>Preaching</td>\n",
       "      <td>Clergy</td>\n",
       "      <td>Books_Subjects_Religion_Spirituality_Christian...</td>\n",
       "      <td>Books_Subjects_Religion_Spirituality_Christianity</td>\n",
       "      <td>Books_Subjects_Religion_Spirituality_Christian...</td>\n",
       "    </tr>\n",
       "    <tr>\n",
       "      <th>1</th>\n",
       "      <td>Sermons</td>\n",
       "      <td>Clergy</td>\n",
       "      <td>Books_Subjects_Religion_Spirituality_Christian...</td>\n",
       "      <td>Books_Subjects_Religion_Spirituality_Christianity</td>\n",
       "      <td>Books_Subjects_Religion_Spirituality_Christian...</td>\n",
       "    </tr>\n",
       "    <tr>\n",
       "      <th>2</th>\n",
       "      <td>Wicca</td>\n",
       "      <td>BasedReligions</td>\n",
       "      <td>Books_Subjects_Religion_Spirituality_Earth_Bas...</td>\n",
       "      <td>Books_Subjects_Religion_Spirituality_Earth</td>\n",
       "      <td>Books_Subjects_Religion_Spirituality_Earth_Bas...</td>\n",
       "    </tr>\n",
       "    <tr>\n",
       "      <th>3</th>\n",
       "      <td>Witchcraft</td>\n",
       "      <td>BasedReligions</td>\n",
       "      <td>Books_Subjects_Religion_Spirituality_Earth_Bas...</td>\n",
       "      <td>Books_Subjects_Religion_Spirituality_Earth</td>\n",
       "      <td>Books_Subjects_Religion_Spirituality_Earth_Bas...</td>\n",
       "    </tr>\n",
       "    <tr>\n",
       "      <th>4</th>\n",
       "      <td>General</td>\n",
       "      <td>Hobbies</td>\n",
       "      <td>Books_Subjects_Home_Garden_Crafts_Hobbies</td>\n",
       "      <td>Books_Subjects_Home_Garden_Crafts</td>\n",
       "      <td>Books_Subjects_Home_Garden_Crafts_Hobbies_General</td>\n",
       "    </tr>\n",
       "  </tbody>\n",
       "</table>\n",
       "</div>"
      ],
      "text/plain": [
       "      Level_1         Level_2  \\\n",
       "0   Preaching          Clergy   \n",
       "1     Sermons          Clergy   \n",
       "2       Wicca  BasedReligions   \n",
       "3  Witchcraft  BasedReligions   \n",
       "4     General         Hobbies   \n",
       "\n",
       "                                           Level_no1  \\\n",
       "0  Books_Subjects_Religion_Spirituality_Christian...   \n",
       "1  Books_Subjects_Religion_Spirituality_Christian...   \n",
       "2  Books_Subjects_Religion_Spirituality_Earth_Bas...   \n",
       "3  Books_Subjects_Religion_Spirituality_Earth_Bas...   \n",
       "4          Books_Subjects_Home_Garden_Crafts_Hobbies   \n",
       "\n",
       "                                           Level_no2  \\\n",
       "0  Books_Subjects_Religion_Spirituality_Christianity   \n",
       "1  Books_Subjects_Religion_Spirituality_Christianity   \n",
       "2         Books_Subjects_Religion_Spirituality_Earth   \n",
       "3         Books_Subjects_Religion_Spirituality_Earth   \n",
       "4                  Books_Subjects_Home_Garden_Crafts   \n",
       "\n",
       "                                            Original  \n",
       "0  Books_Subjects_Religion_Spirituality_Christian...  \n",
       "1  Books_Subjects_Religion_Spirituality_Christian...  \n",
       "2  Books_Subjects_Religion_Spirituality_Earth_Bas...  \n",
       "3  Books_Subjects_Religion_Spirituality_Earth_Bas...  \n",
       "4  Books_Subjects_Home_Garden_Crafts_Hobbies_General  "
      ]
     },
     "execution_count": 66,
     "metadata": {},
     "output_type": "execute_result"
    }
   ],
   "source": [
    "\n",
    "new_cats =pd.DataFrame({'Original': cat_all.apply(lambda x: '_'.join(x)),\n",
    "                        'Level_1': cat_all.apply(lambda x: x[-1]),\n",
    "                        'Level_2': cat_all.apply(lambda x: x[-2]),\n",
    "                        'Level_no1': cat_all.apply(lambda x: '_'.join(x[:-1])),\n",
    "                        'Level_no2': cat_all.apply(lambda x: '_'.join(x[:-2]))\n",
    "                       }, dtype = str) \n",
    "new_cats.head()"
   ]
  },
  {
   "cell_type": "code",
   "execution_count": 67,
   "metadata": {
    "collapsed": false
   },
   "outputs": [
    {
     "data": {
      "text/plain": [
       "Level_no1\n",
       "Books_Subjects_Reference_Dictionaries_Thesauruses_ForeignLanguage                               52\n",
       "Books_Subjects_Home_Garden_Crafts_Hobbies                                                       49\n",
       "Books_Formats_SheetMusic_Scores_Composers                                                       43\n",
       "Books_Subjects_Health_Mind_Body_Disorders_Diseases                                              41\n",
       "Books_Subjects_History_Africa                                                                   40\n",
       "Books_Subjects_History_Europe                                                                   40\n",
       "Books_Subjects_History_Americas_UnitedStates_State_Local_ByState                                36\n",
       "Books_Subjects_Home_Garden_Antiques_Collectibles                                                34\n",
       "Books_Subjects_Travel_GuidebookSeries                                                           30\n",
       "Amazon_comStores_Travel_Categories_TravelBooks_GuidebookSeries                                  30\n",
       "Books_Subjects_Children_sBooks_Religions_Christianity_Series                                    28\n",
       "Books_Subjects_History_Asia                                                                     26\n",
       "Books_Subjects_Reference_ForeignLanguages_Instruction                                           26\n",
       "Books_Subjects_Computers_Internet_CertificationCentral_Subjects                                 24\n",
       "Books_Subjects_Children_sBooks_PopularCharacters_BookCharacters                                 24\n",
       "Books_Subjects_Home_Garden_ExpertAdvice                                                         24\n",
       "Books_Subjects_Professional_Technical_Medical_VeterinaryMedicine                                23\n",
       "Amazon_comStores_Travel_Categories_TravelBooks_SpecialtyTravel_Adventure_Hiking_UnitedStates    22\n",
       "Books_Subjects_Children_sBooks_Series_Fantasy_Adventure                                         22\n",
       "Books_Subjects_Outdoors_Nature_Hiking_Camping_ExcursionGuides_UnitedStates                      22\n",
       "Books_Subjects_Teens_Series                                                                     22\n",
       "Books_Subjects_Health_Mind_Body_Psychology_Counseling                                           21\n",
       "Books_Subjects_Arts_Photography_Art_ArtHistory_Schools_Periods_Styles                           21\n",
       "Books_Subjects_Computers_Internet_Programming_Languages_Tools                                   21\n",
       "Books_Subjects_Home_Garden_Gardening_Horticulture_ByPlant                                       21\n",
       "Amazon_comStores_Travel_Categories_TravelBooks_Asia                                             20\n",
       "Books_Subjects_Religion_Spirituality_Christianity_Theology                                      20\n",
       "Books_Subjects_Computers_Internet_CertificationCentral_Exams                                    20\n",
       "Books_Subjects_Travel_Asia                                                                      20\n",
       "Books_Subjects_Travel_Africa                                                                    19\n",
       "                                                                                                ..\n",
       "Books_Subjects_Literature_Fiction_WorldLiterature_UnitedStates_AfricanAmerican_Kenan             1\n",
       "Books_Subjects_Literature_Fiction_WorldLiterature_UnitedStates_AfricanAmerican_Kennedy           1\n",
       "Books_Subjects_Literature_Fiction_WorldLiterature_UnitedStates_AfricanAmerican_Kincaid           1\n",
       "Books_Subjects_Literature_Fiction_WorldLiterature_UnitedStates_AfricanAmerican_Komunyakaa        1\n",
       "Books_Subjects_Literature_Fiction_WorldLiterature_UnitedStates_AfricanAmerican_Larsen            1\n",
       "Books_Subjects_Literature_Fiction_WorldLiterature_UnitedStates_AfricanAmerican_Major             1\n",
       "Books_Subjects_Literature_Fiction_WorldLiterature_UnitedStates_AfricanAmerican_Marshall          1\n",
       "Books_Subjects_Literature_Fiction_WorldLiterature_UnitedStates_AfricanAmerican_Gates             1\n",
       "Books_Subjects_Literature_Fiction_WorldLiterature_UnitedStates_AfricanAmerican_Ellison           1\n",
       "Books_Subjects_Literature_Fiction_WorldLiterature_UnitedStates_AfricanAmerican_Angelou           1\n",
       "Books_Subjects_Literature_Fiction_WorldLiterature_UnitedStates_AfricanAmerican_Carter            1\n",
       "Books_Subjects_Literature_Fiction_WorldLiterature_UnitedStates_AfricanAmerican_Baldwin           1\n",
       "Books_Subjects_Literature_Fiction_WorldLiterature_UnitedStates_AfricanAmerican_Bambara           1\n",
       "Books_Subjects_Literature_Fiction_WorldLiterature_UnitedStates_AfricanAmerican_Baraka            1\n",
       "Books_Subjects_Literature_Fiction_WorldLiterature_UnitedStates_AfricanAmerican_Beatty            1\n",
       "Books_Subjects_Literature_Fiction_WorldLiterature_UnitedStates_AfricanAmerican_Briscoe           1\n",
       "Books_Subjects_Literature_Fiction_WorldLiterature_UnitedStates_AfricanAmerican_Brooks            1\n",
       "Books_Subjects_Literature_Fiction_WorldLiterature_UnitedStates_AfricanAmerican_Butler            1\n",
       "Books_Subjects_Literature_Fiction_WorldLiterature_UnitedStates_AfricanAmerican_Campbell          1\n",
       "Books_Subjects_Literature_Fiction_WorldLiterature_UnitedStates_AfricanAmerican_Cleage            1\n",
       "Books_Subjects_Literature_Fiction_WorldLiterature_UnitedStates_AfricanAmerican_Dunbar            1\n",
       "Books_Subjects_Literature_Fiction_WorldLiterature_UnitedStates_AfricanAmerican_Clifton           1\n",
       "Books_Subjects_Literature_Fiction_WorldLiterature_UnitedStates_AfricanAmerican_Coleman           1\n",
       "Books_Subjects_Literature_Fiction_WorldLiterature_UnitedStates_AfricanAmerican_Cullen            1\n",
       "Books_Subjects_Literature_Fiction_WorldLiterature_UnitedStates_AfricanAmerican_Danticat          1\n",
       "Books_Subjects_Literature_Fiction_WorldLiterature_UnitedStates_AfricanAmerican_Dickey            1\n",
       "Books_Subjects_Literature_Fiction_WorldLiterature_UnitedStates_AfricanAmerican_Douglass          1\n",
       "Books_Subjects_Literature_Fiction_WorldLiterature_UnitedStates_AfricanAmerican_Dove              1\n",
       "Books_Subjects_Literature_Fiction_WorldLiterature_UnitedStates_AfricanAmerican_Dubois_W_E        1\n",
       "Books_Subjects_Literature_Fiction_Authors_A_Z_B_Burnard                                          1\n",
       "dtype: int64"
      ]
     },
     "execution_count": 67,
     "metadata": {},
     "output_type": "execute_result"
    }
   ],
   "source": [
    "size_rest = new_cats.drop_duplicates(\n",
    "                                    subset='Original').groupby('Level_no1').size(\n",
    "                ).sort_values(ascending = False)\n",
    "size_rest"
   ]
  },
  {
   "cell_type": "code",
   "execution_count": 69,
   "metadata": {
    "collapsed": false
   },
   "outputs": [
    {
     "data": {
      "image/png": "[encoded data removed]",
      "text/plain": [
       "<matplotlib.figure.Figure at 0x3724164e0>"
      ]
     },
     "metadata": {},
     "output_type": "display_data"
    }
   ],
   "source": [
    "plt.hist(size_rest, 1000) # set 1000 bins\n",
    "plt.xlabel('Number of sub_categories per unique original category entry')\n",
    "plt.ylabel('Frequency')\n",
    "plt.show()"
   ]
  },
  {
   "cell_type": "markdown",
   "metadata": {},
   "source": [
    "* When there is only one sub-category per category entry, that sub-category can be removed"
   ]
  },
  {
   "cell_type": "code",
   "execution_count": 72,
   "metadata": {
    "collapsed": false
   },
   "outputs": [
    {
     "name": "stdout",
     "output_type": "stream",
     "text": [
      "The number of categories with one sub-category: 4876\n",
      "\n",
      "The original unique category entries: 12786\n"
     ]
    }
   ],
   "source": [
    "n_original = len(new_cats.Original.unique())\n",
    "print('The number of categories with one sub-category:',\n",
    " sum(size_rest<2))\n",
    "print('\\nThe original unique category entries:' , n_original)"
   ]
  },
  {
   "cell_type": "markdown",
   "metadata": {},
   "source": [
    "* That means if we remove 4876 categories (53% of unique category names), the number of unique category entries remain the same "
   ]
  },
  {
   "cell_type": "code",
   "execution_count": 83,
   "metadata": {
    "collapsed": false
   },
   "outputs": [
    {
     "data": {
      "text/plain": [
       "Level_no2\n",
       "Amazon_comStores_Home_Office_Business                                                             18438\n",
       "Books_Subjects_Business                                                                           18436\n",
       "Books_Subjects_Computers                                                                           8660\n",
       "Books_SpecialtyStores                                                                              7896\n",
       "Books_Subjects_Computers_Internet                                                                  5201\n",
       "Books_Subjects_Children_sBooks_Literature                                                          4097\n",
       "Books_Subjects_Nonfiction_Politics                                                                 3413\n",
       "Books_Subjects_History_Americas_UnitedStates                                                       3392\n",
       "Books_Subjects_Children_sBooks_Literature_ScienceFiction_Fantasy_Mystery_Horror_ScienceFiction     3286\n",
       "Books_Subjects_Religion_Spirituality_Christianity_Reference                                        3214\n",
       "Books_Subjects_Nonfiction_Philosophy                                                               2963\n",
       "Books_Subjects_Literature_Fiction_WorldLiterature_UnitedStates                                     2862\n",
       "Books_Subjects                                                                                     2775\n",
       "Books_Subjects_Business_Investing_Economics                                                        2604\n",
       "Books_Subjects_Nonfiction_SocialSciences                                                           2600\n",
       "Amazon_comStores_Home_Office_Business_InvestingBooks_Economics                                     2554\n",
       "Books_Subjects_Professional_Technical_Accounting_Finance                                           2445\n",
       "Books_Subjects_Entertainment_Music                                                                 2122\n",
       "Books_Subjects_Arts_Photography_Artists_A                                                          2107\n",
       "Books_Subjects_Business_Investing_Industries_Professions                                           2096\n",
       "Books_Subjects_Religion_Spirituality_Christianity_Bibles_StudyGuides_History                       2067\n",
       "Books_Subjects_Literature_Fiction_GenreFiction                                                     2065\n",
       "Books_Subjects_Entertainment_Movies                                                                2016\n",
       "Books_Subjects_Religion                                                                            1994\n",
       "Amazon_comStores_Home_Office_Business_InvestingBooks_Industries_Professions                        1842\n",
       "Books_Subjects_Children_sBooks_Literature_ScienceFiction_Fantasy_Mystery_Horror                    1796\n",
       "Amazon_comStores_Home_Office_Business_InvestingBooks_Finance                                       1674\n",
       "Books_Subjects_Children_sBooks_Literature_ScienceFiction_Fantasy_Mystery_Horror_Mysteries          1657\n",
       "Books_Subjects_Comics                                                                              1646\n",
       "Books_Subjects_Medicine_Specialties                                                                1644\n",
       "                                                                                                  ...  \n",
       "Books_Formats_BooksonCD_Authors_A_Z_G_Griffin_W                                                       1\n",
       "Music_Styles_Classical                                                                                1\n",
       "Music_Styles_Classical_FeaturedComposers_A_Z                                                          1\n",
       "Music_Styles_Classical_FeaturedComposers_A_Z_B_Bart_k_B                                               1\n",
       "Music_Styles_Classical_FeaturedComposers_A_Z_B_Berlioz                                                1\n",
       "Music_Styles_Classical_FeaturedComposers_A_Z_B_Borodin                                                1\n",
       "Music_Styles_Classical_FeaturedComposers_A_Z_B_Boulez                                                 1\n",
       "Music_Styles_Classical_FeaturedComposers_A_Z_B_Brahms                                                 1\n",
       "Music_Styles_Classical_FeaturedComposers_A_Z_B_Britten                                                1\n",
       "Books_Formats_BooksonCD_Authors_A_Z_W                                                                 1\n",
       "DVD_Actors_Actresses_H                                                                                1\n",
       "DVD_Actors_Actresses_C                                                                                1\n",
       "Books_Subjects_Romance_Authors_A                                                                      1\n",
       "Books_Subjects_Mystery_Thrillers_Authors_A_Z_L_Lake                                                   1\n",
       "Books_Subjects_Mystery_Thrillers_Authors_A_Z_T_Thomas                                                 1\n",
       "Books_Formats_BooksonTape_Authors_A_Z_L_Lawrence                                                      1\n",
       "Books_Subjects_Professional_Technical_Architecture_Architects_A_Z_Pugin_A                             1\n",
       "Books_Subjects_Professional_Technical_Law_One_L                                                       1\n",
       "Books_Subjects_Reference_Genealogy                                                                    1\n",
       "Books_Subjects_Religion_Spirituality_Authors_A_Z_O_O                                                  1\n",
       "Books_Subjects_ScienceFiction_Fantasy_Authors_A_Z_B_Bacon                                             1\n",
       "DVD_Actors                                                                                            1\n",
       "Books_Subjects_ScienceFiction_Fantasy_Authors_A_Z_D_Douglas                                           1\n",
       "Books_Subjects_ScienceFiction_Fantasy_Authors_A_Z_M_MacAvoy                                           1\n",
       "Books_Subjects_ScienceFiction_Fantasy_Media                                                           1\n",
       "Books_Formats_BooksonTape_Authors_A_Z_B_Byatt                                                         1\n",
       "Books_Subjects_Teens_Authors                                                                          1\n",
       "Books_Formats_BooksonTape_Authors_A                                                                   1\n",
       "Books_Subjects_Teens_SocialIssues                                                                     1\n",
       "DVD_Genres_Comedy                                                                                     1\n",
       "dtype: int64"
      ]
     },
     "execution_count": 83,
     "metadata": {},
     "output_type": "execute_result"
    }
   ],
   "source": [
    "# repeat the same step to remove the categories from the second to last level \n",
    "#that has only on unique sub category\n",
    "size_rest2 = new_cats.loc[new_cats.Level_no1.isin(size_rest.index.values[size_rest==1]), :].groupby(\n",
    "    'Level_no2').size().sort_values(ascending = False)\n",
    "size_rest2"
   ]
  },
  {
   "cell_type": "code",
   "execution_count": 84,
   "metadata": {
    "collapsed": false
   },
   "outputs": [
    {
     "name": "stdout",
     "output_type": "stream",
     "text": [
      "The number of categories with one sub-category in the last two layers: 155\n"
     ]
    }
   ],
   "source": [
    "print('The number of categories with one sub-category in the last two layers:',\n",
    " sum(size_rest2 == 1))"
   ]
  },
  {
   "cell_type": "markdown",
   "metadata": {},
   "source": [
    "* That means if we remove 4876 + 155 = 5031 categories (55% of unique category names), the number of unique category entries remain the same"
   ]
  },
  {
   "cell_type": "code",
   "execution_count": 85,
   "metadata": {
    "collapsed": false
   },
   "outputs": [
    {
     "name": "stdout",
     "output_type": "stream",
     "text": [
      "The number of categories with two sub-category: 461\n"
     ]
    }
   ],
   "source": [
    "print('The number of categories with two sub-category:',\n",
    " sum(size_rest == 2))"
   ]
  },
  {
   "cell_type": "code",
   "execution_count": 89,
   "metadata": {
    "collapsed": false
   },
   "outputs": [
    {
     "name": "stdout",
     "output_type": "stream",
     "text": [
      "12786\n"
     ]
    },
    {
     "data": {
      "text/plain": [
       "9118"
      ]
     },
     "execution_count": 89,
     "metadata": {},
     "output_type": "execute_result"
    }
   ],
   "source": [
    "print(n_original)\n",
    "n_catNames"
   ]
  },
  {
   "cell_type": "markdown",
   "metadata": {},
   "source": [
    "* That means if we remove 4876 + 155 + 461 *2 = 5953 categories (65% of unique category names), the number of unique category entries reduces by 461, or 3.6%."
   ]
  },
  {
   "cell_type": "code",
   "execution_count": 88,
   "metadata": {
    "collapsed": false
   },
   "outputs": [
    {
     "name": "stdout",
     "output_type": "stream",
     "text": [
      "The number of categories with two sub-category second to last category: 62\n"
     ]
    }
   ],
   "source": [
    "print('The number of categories with two sub-category second to last category:',\n",
    " sum(size_rest2 == 2))"
   ]
  },
  {
   "cell_type": "markdown",
   "metadata": {},
   "source": [
    "* That means if we remove 4876 + 155 + 461 \\*2 + 62 \\* 2 = 6077 categories (67% of unique category names), the number of unique category entries reduces by 461 + 62, or 4.1%.\n",
    "* And we can continue this on and on until 90% of categories are removed with less than 10% of category entries lost"
   ]
  },
  {
   "cell_type": "code",
   "execution_count": 91,
   "metadata": {
    "collapsed": false
   },
   "outputs": [
    {
     "name": "stdout",
     "output_type": "stream",
     "text": [
      "The number of categories with three sub-category : 319\n"
     ]
    }
   ],
   "source": [
    "print('The number of categories with three sub-category :',\n",
    " sum(size_rest == 3))"
   ]
  },
  {
   "cell_type": "markdown",
   "metadata": {},
   "source": [
    "That means if we remove 4876 + 155 + 461\\*2 + 62\\*2 + 319\\*3 = 7034 categories (77% of unique category names), the number of unique category entries reduces by 461 + 62 + 319\\*2 = 1161, or 9%"
   ]
  },
  {
   "cell_type": "code",
   "execution_count": null,
   "metadata": {
    "collapsed": true
   },
   "outputs": [],
   "source": []
  }
 ],
 "metadata": {
  "anaconda-cloud": {},
  "kernelspec": {
   "display_name": "Python [conda root]",
   "language": "python",
   "name": "conda-root-py"
  },
  "language_info": {
   "codemirror_mode": {
    "name": "ipython",
    "version": 3
   },
   "file_extension": ".py",
   "mimetype": "text/x-python",
   "name": "python",
   "nbconvert_exporter": "python",
   "pygments_lexer": "ipython3",
   "version": "3.5.2"
  }
 },
 "nbformat": 4,
 "nbformat_minor": 1
}
